{
 "cells": [
  {
   "cell_type": "code",
   "execution_count": 1,
   "metadata": {},
   "outputs": [],
   "source": [
    "import os\n",
    "from time import time\n",
    "\n",
    "from IndicTrans2.inference.engine import Model\n",
    "\n",
    "# Set the CUDA_VISIBLE_DEVICES to the desired GPU index (e.g., GPU 6)\n",
    "os.environ[\"CUDA_VISIBLE_DEVICES\"] = \"6\""
   ]
  },
  {
   "cell_type": "code",
   "execution_count": 2,
   "metadata": {},
   "outputs": [],
   "source": [
    "EN_IN_ckpt_dir = \"static_data/ct_model_english_indic\"\n",
    "IN_EN_ckpt_dir = \"static_data/ct_model_indic_english\"\n",
    "\n",
    "LANGUAGE_CODE_MAPPING = {\n",
    "    'bengali': 'ben_Beng',\n",
    "    'hindi': 'hin_Deva',\n",
    "    'kannada': 'kan_Knda',\n",
    "    'marathi': 'mar_Deva',\n",
    "    'malayalam': 'mal_Mlym',\n",
    "    'gujarati': 'guj_Gujr',\n",
    "    'punjabi': 'pan_Guru',\n",
    "    'telugu': 'tel_Telu',\n",
    "    'tamil': 'tam_Taml'\n",
    "}"
   ]
  },
  {
   "cell_type": "markdown",
   "metadata": {},
   "source": [
    "# English To Indic"
   ]
  },
  {
   "cell_type": "code",
   "execution_count": 3,
   "metadata": {},
   "outputs": [
    {
     "name": "stdout",
     "output_type": "stream",
     "text": [
      "Initializing sentencepiece model for SRC and TGT\n",
      "Initializing model for translation\n"
     ]
    }
   ],
   "source": [
    "# Load the Model\n",
    "en_to_in_model = Model(EN_IN_ckpt_dir, model_type=\"ctranslate2\")"
   ]
  },
  {
   "cell_type": "code",
   "execution_count": 4,
   "metadata": {},
   "outputs": [],
   "source": [
    "sentences = [\n",
    "    \"Hello, how are you doing today? I hope you are having a great day.\",\n",
    "    \"I love learning new languages because it helps me connect with different cultures.\",\n",
    "    \"What is your favorite food to eat when you are feeling happy or celebrating something?\",\n",
    "    \"She is reading a fascinating book about the history of ancient civilizations.\",\n",
    "    \"The weather is very nice today, and I am thinking of going for a walk in the park.\"\n",
    "]"
   ]
  },
  {
   "cell_type": "code",
   "execution_count": 5,
   "metadata": {},
   "outputs": [
    {
     "name": "stdout",
     "output_type": "stream",
     "text": [
      "-----------------------------\n",
      "English Sentence: Hello, how are you doing today? I hope you are having a great day.\n",
      "Indic Sentence: नमस्कार, आज आप कैसे हैं? मुझे आशा है कि आपका दिन अच्छा रहा होगा।\n",
      "-----------------------------\n",
      "English Sentence: I love learning new languages because it helps me connect with different cultures.\n",
      "Indic Sentence: मुझे नई भाषाएँ सीखना पसंद है क्योंकि यह मुझे विभिन्न संस्कृतियों से जुड़ने में मदद करता है।\n",
      "-----------------------------\n",
      "English Sentence: What is your favorite food to eat when you are feeling happy or celebrating something?\n",
      "Indic Sentence: जब आप खुश महसूस कर रहे हों या कुछ जश्न मना रहे हों तो खाने के लिए आपका पसंदीदा भोजन क्या है?\n",
      "-----------------------------\n",
      "English Sentence: She is reading a fascinating book about the history of ancient civilizations.\n",
      "Indic Sentence: वह प्राचीन सभ्यताओं के इतिहास के बारे में एक आकर्षक पुस्तक पढ़ रही है।\n",
      "-----------------------------\n",
      "English Sentence: The weather is very nice today, and I am thinking of going for a walk in the park.\n",
      "Indic Sentence: आज मौसम बहुत अच्छा है, और मैं पार्क में टहलने जाने के बारे में सोच रहा हूँ।\n"
     ]
    }
   ],
   "source": [
    "\n",
    "output = en_to_in_model.batch_translate(sentences, src_lang=\"eng_Latn\", tgt_lang=\"hin_Deva\", beam_len=3)\n",
    "for i, sentence in enumerate(sentences):\n",
    "    print(\"-----------------------------\")\n",
    "    print(f\"English Sentence: {sentence}\")\n",
    "    print(f\"Indic Sentence: {output[i]}\")\n"
   ]
  },
  {
   "cell_type": "code",
   "execution_count": 6,
   "metadata": {},
   "outputs": [
    {
     "name": "stdout",
     "output_type": "stream",
     "text": [
      "-----------------------------\n",
      "Translation for bengali\n",
      "English Sentence: I love learning new languages because it helps me connect with different cultures.\n",
      "Translated Sentence: আমি নতুন ভাষা শিখতে পছন্দ করি কারণ এটি আমাকে বিভিন্ন সংস্কৃতির সাথে সংযুক্ত হতে সহায়তা করে।\n",
      "-----------------------------\n",
      "Translation for hindi\n",
      "English Sentence: I love learning new languages because it helps me connect with different cultures.\n",
      "Translated Sentence: मुझे नई भाषाएँ सीखना पसंद है क्योंकि यह मुझे विभिन्न संस्कृतियों से जुड़ने में मदद करता है।\n",
      "-----------------------------\n",
      "Translation for kannada\n",
      "English Sentence: I love learning new languages because it helps me connect with different cultures.\n",
      "Translated Sentence: ನಾನು ಹೊಸ ಭಾಷೆಗಳನ್ನು ಕಲಿಯಲು ಇಷ್ಟಪಡುತ್ತೇನೆ ಏಕೆಂದರೆ ಇದು ವಿಭಿನ್ನ ಸಂಸ್ಕೃತಿಗಳೊಂದಿಗೆ ಸಂಪರ್ಕ ಸಾಧಿಸಲು ನನಗೆ ಸಹಾಯ ಮಾಡುತ್ತದೆ.\n",
      "-----------------------------\n",
      "Translation for marathi\n",
      "English Sentence: I love learning new languages because it helps me connect with different cultures.\n",
      "Translated Sentence: मला नवीन भाषा शिकायला आवडतात कारण यामुळे मला वेगवेगळ्या संस्कृतींशी जोडले जाण्यास मदत होते.\n",
      "-----------------------------\n",
      "Translation for malayalam\n",
      "English Sentence: I love learning new languages because it helps me connect with different cultures.\n",
      "Translated Sentence: വ്യത്യസ്ത സംസ്കാരങ്ങളുമായി ബന്ധപ്പെടാൻ സഹായിക്കുന്നതിനാൽ എനിക്ക് പുതിയ ഭാഷകൾ പഠിക്കാൻ ഇഷ്ടമാണ്.\n",
      "-----------------------------\n",
      "Translation for gujarati\n",
      "English Sentence: I love learning new languages because it helps me connect with different cultures.\n",
      "Translated Sentence: મને નવી ભાષાઓ શીખવી ગમે છે કારણ કે તે મને વિવિધ સંસ્કૃતિઓ સાથે જોડવામાં મદદ કરે છે.\n",
      "-----------------------------\n",
      "Translation for punjabi\n",
      "English Sentence: I love learning new languages because it helps me connect with different cultures.\n",
      "Translated Sentence: ਮੈਨੂੰ ਨਵੀਆਂ ਭਾਸ਼ਾਵਾਂ ਸਿੱਖਣਾ ਪਸੰਦ ਹੈ ਕਿਉਂਕਿ ਇਹ ਮੈਨੂੰ ਵੱਖ-ਵੱਖ ਸੱਭਿਆਚਾਰਾਂ ਨਾਲ ਜੁਡ਼ਨ ਵਿੱਚ ਸਹਾਇਤਾ ਕਰਦੀ ਹੈ।\n",
      "-----------------------------\n",
      "Translation for telugu\n",
      "English Sentence: I love learning new languages because it helps me connect with different cultures.\n",
      "Translated Sentence: నేను కొత్త భాషలను నేర్చుకోవడాన్ని ఇష్టపడతాను ఎందుకంటే ఇది వివిధ సంస్కృతులతో కనెక్ట్ అవ్వడానికి నాకు సహాయపడుతుంది.\n",
      "-----------------------------\n",
      "Translation for tamil\n",
      "English Sentence: I love learning new languages because it helps me connect with different cultures.\n",
      "Translated Sentence: நான் புதிய மொழிகளைக் கற்றுக்கொள்வதை விரும்புகிறேன், ஏனெனில் இது வெவ்வேறு கலாச்சாரங்களுடன் இணைக்க உதவுகிறது.\n"
     ]
    }
   ],
   "source": [
    "# Translation from english to indic for all languages\n",
    "single_sentence = [\"I love learning new languages because it helps me connect with different cultures.\"]\n",
    "for language in LANGUAGE_CODE_MAPPING:\n",
    "    tgt_lang = LANGUAGE_CODE_MAPPING[language]\n",
    "    output = en_to_in_model.batch_translate(single_sentence, src_lang=\"eng_Latn\", tgt_lang=tgt_lang, beam_len=3)\n",
    "    print(\"-----------------------------\")\n",
    "    print(f\"Translation for {language}\")\n",
    "    print(f\"English Sentence: {single_sentence[0]}\")\n",
    "    print(f\"Translated Sentence: {output[0]}\")\n"
   ]
  },
  {
   "cell_type": "markdown",
   "metadata": {},
   "source": [
    "# Indic To English"
   ]
  },
  {
   "cell_type": "code",
   "execution_count": 7,
   "metadata": {},
   "outputs": [],
   "source": [
    "sentences = [\n",
    "    \"नमस्ते, आप आज कैसे हैं? आशा करता हूँ कि आपका दिन अच्छा गुजर रहा है।\",\n",
    "    \"मुझे नई भाषाएँ सीखना बहुत पसंद है क्योंकि इससे मुझे अलग-अलग संस्कृतियों से जुड़ने में मदद मिलती है।\",\n",
    "    \"जब आप खुश होते हैं या कुछ सेलिब्रेट कर रहे होते हैं, तब आपका पसंदीदा खाना कौन सा होता है?\",\n",
    "    \"वह प्राचीन सभ्यताओं के इतिहास पर एक रोचक किताब पढ़ रही है।\",\n",
    "    \"आज मौसम बहुत सुहावना है, और मैं पार्क में टहलने जाने के बारे में सोच रहा हूँ।\"\n",
    "]"
   ]
  },
  {
   "cell_type": "code",
   "execution_count": 8,
   "metadata": {},
   "outputs": [
    {
     "name": "stdout",
     "output_type": "stream",
     "text": [
      "Initializing sentencepiece model for SRC and TGT\n",
      "Initializing model for translation\n"
     ]
    }
   ],
   "source": [
    "in_to_en_model = Model(IN_EN_ckpt_dir, model_type=\"ctranslate2\")"
   ]
  },
  {
   "cell_type": "code",
   "execution_count": 9,
   "metadata": {},
   "outputs": [
    {
     "name": "stdout",
     "output_type": "stream",
     "text": [
      "-----------------------------\n",
      "Indic Sentence: नमस्ते, आप आज कैसे हैं? आशा करता हूँ कि आपका दिन अच्छा गुजर रहा है।\n",
      "English Sentence: Hi, how are you doing today? I hope you are having a great day.\n",
      "-----------------------------\n",
      "Indic Sentence: मुझे नई भाषाएँ सीखना बहुत पसंद है क्योंकि इससे मुझे अलग-अलग संस्कृतियों से जुड़ने में मदद मिलती है।\n",
      "English Sentence: I love learning new languages because it helps me connect with different cultures.\n",
      "-----------------------------\n",
      "Indic Sentence: जब आप खुश होते हैं या कुछ सेलिब्रेट कर रहे होते हैं, तब आपका पसंदीदा खाना कौन सा होता है?\n",
      "English Sentence: When you are happy or celebrating something, what is your favorite food?\n",
      "-----------------------------\n",
      "Indic Sentence: वह प्राचीन सभ्यताओं के इतिहास पर एक रोचक किताब पढ़ रही है।\n",
      "English Sentence: She is reading an interesting book on the history of ancient civilizations.\n",
      "-----------------------------\n",
      "Indic Sentence: आज मौसम बहुत सुहावना है, और मैं पार्क में टहलने जाने के बारे में सोच रहा हूँ।\n",
      "English Sentence: Today the weather is very pleasant, and I am thinking of going for a walk in the park.\n"
     ]
    }
   ],
   "source": [
    "\n",
    "output = in_to_en_model.batch_translate(sentences, src_lang=\"hin_Deva\", tgt_lang=\"eng_Latn\", beam_len=3)\n",
    "for i, sentence in enumerate(sentences):\n",
    "    print(\"-----------------------------\")\n",
    "    print(f\"Indic Sentence: {sentence}\")\n",
    "    print(f\"English Sentence: {output[i]}\")"
   ]
  },
  {
   "cell_type": "code",
   "execution_count": null,
   "metadata": {},
   "outputs": [],
   "source": []
  }
 ],
 "metadata": {
  "kernelspec": {
   "display_name": "KrutrimTranslate",
   "language": "python",
   "name": "python3"
  },
  "language_info": {
   "codemirror_mode": {
    "name": "ipython",
    "version": 3
   },
   "file_extension": ".py",
   "mimetype": "text/x-python",
   "name": "python",
   "nbconvert_exporter": "python",
   "pygments_lexer": "ipython3",
   "version": "3.9.21"
  }
 },
 "nbformat": 4,
 "nbformat_minor": 2
}
