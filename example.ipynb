{
 "cells": [
  {
   "cell_type": "code",
   "execution_count": 1,
   "metadata": {},
   "outputs": [],
   "source": [
    "import os\n",
    "from time import time\n",
    "\n",
    "from IndicTrans2.inference.engine import Model\n",
    "\n",
    "# Set the CUDA_VISIBLE_DEVICES to the desired GPU index (e.g., GPU 6)\n",
    "os.environ[\"CUDA_VISIBLE_DEVICES\"] = \"6\""
   ]
  },
  {
   "cell_type": "code",
   "execution_count": 2,
   "metadata": {},
   "outputs": [],
   "source": [
    "EN_IN_ckpt_dir = \"static_data/ct_model_english_indic_360M\"\n",
    "IN_EN_ckpt_dir = \"static_data/ct_model_indic_english_360M\""
   ]
  },
  {
   "cell_type": "markdown",
   "metadata": {},
   "source": [
    "# English To Indic"
   ]
  },
  {
   "cell_type": "code",
   "execution_count": 3,
   "metadata": {},
   "outputs": [
    {
     "name": "stdout",
     "output_type": "stream",
     "text": [
      "Initializing sentencepiece model for SRC and TGT\n",
      "Initializing model for translation\n"
     ]
    }
   ],
   "source": [
    "# Load the Model\n",
    "en_to_in_model = Model(EN_IN_ckpt_dir, model_type=\"ctranslate2\")"
   ]
  },
  {
   "cell_type": "code",
   "execution_count": 4,
   "metadata": {},
   "outputs": [],
   "source": [
    "sentences = [\n",
    "    \"Hello, how are you doing today? I hope you are having a great day.\",\n",
    "    \"I love learning new languages because it helps me connect with different cultures.\",\n",
    "    \"What is your favorite food to eat when you are feeling happy or celebrating something?\",\n",
    "    \"She is reading a fascinating book about the history of ancient civilizations.\",\n",
    "    \"The weather is very nice today, and I am thinking of going for a walk in the park.\"\n",
    "]"
   ]
  },
  {
   "cell_type": "code",
   "execution_count": 5,
   "metadata": {},
   "outputs": [
    {
     "name": "stdout",
     "output_type": "stream",
     "text": [
      "-----------------------------\n",
      "English Sentence: Hello, how are you doing today? I hope you are having a great day.\n",
      "Indic Sentence: नमस्कार, आज आप कैसे हैं? मुझे आशा है कि आपका दिन अच्छा रहा होगा।\n",
      "-----------------------------\n",
      "English Sentence: I love learning new languages because it helps me connect with different cultures.\n",
      "Indic Sentence: मुझे नई भाषाएँ सीखना पसंद है क्योंकि यह मुझे विभिन्न संस्कृतियों से जुड़ने में मदद करता है।\n",
      "-----------------------------\n",
      "English Sentence: What is your favorite food to eat when you are feeling happy or celebrating something?\n",
      "Indic Sentence: जब आप खुश महसूस कर रहे हों या कुछ जश्न मना रहे हों तो खाने के लिए आपका पसंदीदा भोजन क्या है?\n",
      "-----------------------------\n",
      "English Sentence: She is reading a fascinating book about the history of ancient civilizations.\n",
      "Indic Sentence: वह प्राचीन सभ्यताओं के इतिहास के बारे में एक आकर्षक पुस्तक पढ़ रही है।\n",
      "-----------------------------\n",
      "English Sentence: The weather is very nice today, and I am thinking of going for a walk in the park.\n",
      "Indic Sentence: आज मौसम बहुत अच्छा है, और मैं पार्क में टहलने जाने के बारे में सोच रहा हूँ।\n"
     ]
    }
   ],
   "source": [
    "\n",
    "output = en_to_in_model.batch_translate(sentences, src_lang=\"eng_Latn\", tgt_lang=\"hin_Deva\", beam_len=3)\n",
    "for i, sentence in enumerate(sentences):\n",
    "    print(\"-----------------------------\")\n",
    "    print(f\"English Sentence: {sentence}\")\n",
    "    print(f\"Indic Sentence: {output[i]}\")\n"
   ]
  },
  {
   "cell_type": "markdown",
   "metadata": {},
   "source": [
    "# Indic To English"
   ]
  },
  {
   "cell_type": "code",
   "execution_count": 9,
   "metadata": {},
   "outputs": [],
   "source": [
    "sentences = [\n",
    "    \"नमस्ते, आप आज कैसे हैं? आशा करता हूँ कि आपका दिन अच्छा गुजर रहा है।\",\n",
    "    \"मुझे नई भाषाएँ सीखना बहुत पसंद है क्योंकि इससे मुझे अलग-अलग संस्कृतियों से जुड़ने में मदद मिलती है।\",\n",
    "    \"जब आप खुश होते हैं या कुछ सेलिब्रेट कर रहे होते हैं, तब आपका पसंदीदा खाना कौन सा होता है?\",\n",
    "    \"वह प्राचीन सभ्यताओं के इतिहास पर एक रोचक किताब पढ़ रही है।\",\n",
    "    \"आज मौसम बहुत सुहावना है, और मैं पार्क में टहलने जाने के बारे में सोच रहा हूँ।\"\n",
    "]"
   ]
  },
  {
   "cell_type": "code",
   "execution_count": 10,
   "metadata": {},
   "outputs": [
    {
     "name": "stdout",
     "output_type": "stream",
     "text": [
      "Initializing sentencepiece model for SRC and TGT\n",
      "Initializing model for translation\n"
     ]
    }
   ],
   "source": [
    "in_to_en_model = Model(IN_EN_ckpt_dir, model_type=\"ctranslate2\")"
   ]
  },
  {
   "cell_type": "code",
   "execution_count": 11,
   "metadata": {},
   "outputs": [
    {
     "name": "stdout",
     "output_type": "stream",
     "text": [
      "-----------------------------\n",
      "Indic Sentence: नमस्ते, आप आज कैसे हैं? आशा करता हूँ कि आपका दिन अच्छा गुजर रहा है।\n",
      "English Sentence: Hi, how are you doing today? I hope you are having a great day.\n",
      "-----------------------------\n",
      "Indic Sentence: मुझे नई भाषाएँ सीखना बहुत पसंद है क्योंकि इससे मुझे अलग-अलग संस्कृतियों से जुड़ने में मदद मिलती है।\n",
      "English Sentence: I love learning new languages because it helps me connect with different cultures.\n",
      "-----------------------------\n",
      "Indic Sentence: जब आप खुश होते हैं या कुछ सेलिब्रेट कर रहे होते हैं, तब आपका पसंदीदा खाना कौन सा होता है?\n",
      "English Sentence: When you are happy or celebrating something, what is your favorite food?\n",
      "-----------------------------\n",
      "Indic Sentence: वह प्राचीन सभ्यताओं के इतिहास पर एक रोचक किताब पढ़ रही है।\n",
      "English Sentence: She is reading an interesting book on the history of ancient civilizations.\n",
      "-----------------------------\n",
      "Indic Sentence: आज मौसम बहुत सुहावना है, और मैं पार्क में टहलने जाने के बारे में सोच रहा हूँ।\n",
      "English Sentence: Today the weather is very pleasant, and I am thinking of going for a walk in the park.\n"
     ]
    }
   ],
   "source": [
    "\n",
    "output = in_to_en_model.batch_translate(sentences, src_lang=\"hin_Deva\", tgt_lang=\"eng_Latn\", beam_len=3)\n",
    "for i, sentence in enumerate(sentences):\n",
    "    print(\"-----------------------------\")\n",
    "    print(f\"Indic Sentence: {sentence}\")\n",
    "    print(f\"English Sentence: {output[i]}\")"
   ]
  },
  {
   "cell_type": "code",
   "execution_count": null,
   "metadata": {},
   "outputs": [],
   "source": []
  }
 ],
 "metadata": {
  "kernelspec": {
   "display_name": "test_os",
   "language": "python",
   "name": "python3"
  },
  "language_info": {
   "codemirror_mode": {
    "name": "ipython",
    "version": 3
   },
   "file_extension": ".py",
   "mimetype": "text/x-python",
   "name": "python",
   "nbconvert_exporter": "python",
   "pygments_lexer": "ipython3",
   "version": "3.9.21"
  }
 },
 "nbformat": 4,
 "nbformat_minor": 2
}
