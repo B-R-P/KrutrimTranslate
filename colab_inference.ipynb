{
  "cells": [
    {
      "cell_type": "code",
      "execution_count": null,
      "metadata": {
        "colab": {
          "base_uri": "https://localhost:8080/"
        },
        "id": "9sgLJdQUug4d",
        "outputId": "986861a0-b7fc-40c7-bbc1-acf938119f47"
      },
      "outputs": [
        {
          "name": "stdout",
          "output_type": "stream",
          "text": [
            "Cloning into 'KrutrimTranslate'...\n",
            "remote: Enumerating objects: 156, done.\u001b[K\n",
            "remote: Counting objects: 100% (156/156), done.\u001b[K\n",
            "remote: Compressing objects: 100% (119/119), done.\u001b[K\n",
            "remote: Total 156 (delta 42), reused 131 (delta 26), pack-reused 0 (from 0)\u001b[K\n",
            "Receiving objects: 100% (156/156), 230.95 KiB | 630.00 KiB/s, done.\n",
            "Resolving deltas: 100% (42/42), done.\n"
          ]
        }
      ],
      "source": [
        "!git clone https://github.com/ola-krutrim/KrutrimTranslate.git"
      ]
    },
    {
      "cell_type": "code",
      "execution_count": null,
      "metadata": {
        "id": "zzxfNHm2z8LO"
      },
      "outputs": [],
      "source": [
        "import os\n",
        "os.chdir(\"/content/KrutrimTranslate\")"
      ]
    },
    {
      "cell_type": "markdown",
      "metadata": {
        "id": "txMVkDh5_X6P"
      },
      "source": [
        "# HF Login"
      ]
    },
    {
      "cell_type": "code",
      "execution_count": null,
      "metadata": {
        "colab": {
          "base_uri": "https://localhost:8080/",
          "height": 17,
          "referenced_widgets": [
            "f0fc2086aad14c1b865abe2efbda8337",
            "0913d939cb9b4eb5bbb0889424715fc9",
            "452bde5b4c86486787551a8fc7d1a2bf",
            "cd6e5c89bb9746b089a2aafeed2bd318",
            "85d2d87b480a4f2f87d1e294b984e328",
            "f8176169aa4c4441a0d3c09ce7f750b8",
            "fce1700b59dd4e41aa91d098db1d7e1e",
            "646c8ffc6ad64f7183e5d073615c8646",
            "629b4904e58f43828f8ba82bf4d9c1f8",
            "972af7dc93ec44bda7fecfc1300f4698",
            "99c4b3d47f3b41f49a27acda4b4c8d7d",
            "bfbb9acb60ea44a99f886a1600b67060",
            "732a73d45657431281159032e0c06593",
            "b5a78e0a586d4ff8a2f4a37cba5e9cf7",
            "77238e5fcdfc4a6babf8ae5dfccdcf17",
            "9a256de65ac64de0897a70571f7d0880",
            "be2ab3df2de44c43baeeebaf55a2d246",
            "b7752fef93bc4febb330f36008b4f4ca",
            "113d649b522640eca20e352ac68f853c",
            "fcac52b652fa48bbb3fcfaf281b4ad68"
          ]
        },
        "id": "nHG8wkge4bkK",
        "outputId": "7f3790f6-456c-4441-ac07-d0f7428993d5"
      },
      "outputs": [],
      "source": [
        "from huggingface_hub import notebook_login\n",
        "notebook_login()"
      ]
    },
    {
      "cell_type": "markdown",
      "metadata": {
        "id": "iG2ZFpLI_TmJ"
      },
      "source": [
        "# Setup Environment"
      ]
    },
    {
      "cell_type": "code",
      "execution_count": null,
      "metadata": {
        "colab": {
          "base_uri": "https://localhost:8080/"
        },
        "collapsed": true,
        "id": "kurgR0yjuwbo",
        "outputId": "23540f9b-49c1-47fa-f0a4-579bd4999b60"
      },
      "outputs": [],
      "source": [
        "!source colab_install.sh"
      ]
    },
    {
      "cell_type": "markdown",
      "metadata": {
        "id": "7ZWTyCYr_PJg"
      },
      "source": [
        "# Download Models from HF"
      ]
    },
    {
      "cell_type": "code",
      "execution_count": null,
      "metadata": {
        "colab": {
          "base_uri": "https://localhost:8080/"
        },
        "collapsed": true,
        "id": "d_H_RTX2xoFr",
        "outputId": "e07dac92-5afc-41c8-a79e-cda5213d3d84"
      },
      "outputs": [],
      "source": [
        "!python model_downloader.py"
      ]
    },
    {
      "cell_type": "code",
      "execution_count": null,
      "metadata": {
        "id": "qr0bTF3_zi9j"
      },
      "outputs": [],
      "source": [
        "import os\n",
        "from time import time\n",
        "\n",
        "from IndicTrans2.inference.engine import Model"
      ]
    },
    {
      "cell_type": "code",
      "execution_count": null,
      "metadata": {
        "id": "KxPSxniXzW_o"
      },
      "outputs": [],
      "source": [
        "EN_IN_ckpt_dir = \"static_data/ct_model_english_indic\"\n",
        "IN_EN_ckpt_dir = \"static_data/ct_model_indic_english\""
      ]
    },
    {
      "cell_type": "code",
      "execution_count": null,
      "metadata": {
        "colab": {
          "base_uri": "https://localhost:8080/",
          "height": 120,
          "referenced_widgets": [
            "5aa5a63579624020b5caa9a3fa5e406a",
            "ed084dca9ec94d01897d262a506cc295",
            "3adafb3c49bd46daa2a0ce3517b85534",
            "cd8f0e6daaeb4d4d80b2483884acf7bb",
            "532c18c456904191a5d4763ed2f64680",
            "53bda49760184586aaaf26b5a74c90a2",
            "ba1e5803418b491e9c5df50f3da9a9eb",
            "356e997325da491aa115c4348883d9c6",
            "cfb71ed67d0042ed8abe81e1b07d0322",
            "e915b4a9e4e3438bb79eb68aca889f7e",
            "445ff885d47c407d9b974b09da2b319c"
          ]
        },
        "id": "ML6U2UGlzfrh",
        "outputId": "8fa5849f-c7f3-4654-d02f-7788d6b28770"
      },
      "outputs": [
        {
          "name": "stdout",
          "output_type": "stream",
          "text": [
            "Initializing sentencepiece model for SRC and TGT\n",
            "Initializing model for translation\n"
          ]
        },
        {
          "name": "stderr",
          "output_type": "stream",
          "text": [
            "The cache for model files in Transformers v4.22.0 has been updated. Migrating your old cache. This is a one-time only operation. You can interrupt this and resume the migration later on by calling `transformers.utils.move_cache()`.\n"
          ]
        },
        {
          "data": {
            "application/vnd.jupyter.widget-view+json": {
              "model_id": "5aa5a63579624020b5caa9a3fa5e406a",
              "version_major": 2,
              "version_minor": 0
            },
            "text/plain": [
              "0it [00:00, ?it/s]"
            ]
          },
          "metadata": {},
          "output_type": "display_data"
        }
      ],
      "source": [
        "en_to_in_model = Model(EN_IN_ckpt_dir, model_type=\"ctranslate2\")"
      ]
    },
    {
      "cell_type": "markdown",
      "metadata": {
        "id": "jofFYMUk_9vf"
      },
      "source": [
        "# English-Indic"
      ]
    },
    {
      "cell_type": "code",
      "execution_count": null,
      "metadata": {
        "colab": {
          "base_uri": "https://localhost:8080/"
        },
        "id": "q2zuRzZVzmpA",
        "outputId": "2cdb1291-1d6c-402b-e33a-ecbe015a1fdd"
      },
      "outputs": [
        {
          "name": "stdout",
          "output_type": "stream",
          "text": [
            "-----------------------------\n",
            "English Sentence: Hello, how are you doing today? I hope you are having a great day.\n",
            "Indic Sentence: नमस्कार, आज आप कैसे हैं? मुझे आशा है कि आपका दिन अच्छा रहा होगा।\n",
            "-----------------------------\n",
            "English Sentence: I love learning new languages because it helps me connect with different cultures.\n",
            "Indic Sentence: मुझे नई भाषाएँ सीखना पसंद है क्योंकि यह मुझे विभिन्न संस्कृतियों से जुड़ने में मदद करता है।\n",
            "-----------------------------\n",
            "English Sentence: What is your favorite food to eat when you are feeling happy or celebrating something?\n",
            "Indic Sentence: जब आप खुश महसूस कर रहे हों या कुछ जश्न मना रहे हों तो खाने के लिए आपका पसंदीदा भोजन क्या है?\n",
            "-----------------------------\n",
            "English Sentence: She is reading a fascinating book about the history of ancient civilizations.\n",
            "Indic Sentence: वह प्राचीन सभ्यताओं के इतिहास के बारे में एक आकर्षक पुस्तक पढ़ रही है।\n",
            "-----------------------------\n",
            "English Sentence: The weather is very nice today, and I am thinking of going for a walk in the park.\n",
            "Indic Sentence: आज मौसम बहुत अच्छा है, और मैं पार्क में टहलने जाने के बारे में सोच रहा हूँ।\n"
          ]
        }
      ],
      "source": [
        "sentences = [\n",
        "    \"Hello, how are you doing today? I hope you are having a great day.\",\n",
        "    \"I love learning new languages because it helps me connect with different cultures.\",\n",
        "    \"What is your favorite food to eat when you are feeling happy or celebrating something?\",\n",
        "    \"She is reading a fascinating book about the history of ancient civilizations.\",\n",
        "    \"The weather is very nice today, and I am thinking of going for a walk in the park.\"\n",
        "]\n",
        "\n",
        "output = en_to_in_model.batch_translate(sentences, src_lang=\"eng_Latn\", tgt_lang=\"hin_Deva\", beam_len=3)\n",
        "for i, sentence in enumerate(sentences):\n",
        "    print(\"-----------------------------\")\n",
        "    print(f\"English Sentence: {sentence}\")\n",
        "    print(f\"Indic Sentence: {output[i]}\")"
      ]
    },
    {
      "cell_type": "code",
      "execution_count": null,
      "metadata": {
        "colab": {
          "base_uri": "https://localhost:8080/"
        },
        "id": "JuzV7D362xRo",
        "outputId": "16f40746-5d5f-4488-9fba-1e6259673b97"
      },
      "outputs": [
        {
          "name": "stdout",
          "output_type": "stream",
          "text": [
            "-----------------------------\n",
            "Translation for bengali\n",
            "English Sentence: I love learning new languages because it helps me connect with different cultures.\n",
            "Translated Sentence: আমি নতুন ভাষা শিখতে পছন্দ করি কারণ এটি আমাকে বিভিন্ন সংস্কৃতির সাথে সংযুক্ত হতে সহায়তা করে।\n",
            "-----------------------------\n",
            "Translation for hindi\n",
            "English Sentence: I love learning new languages because it helps me connect with different cultures.\n",
            "Translated Sentence: मुझे नई भाषाएँ सीखना पसंद है क्योंकि यह मुझे विभिन्न संस्कृतियों से जुड़ने में मदद करता है।\n",
            "-----------------------------\n",
            "Translation for kannada\n",
            "English Sentence: I love learning new languages because it helps me connect with different cultures.\n",
            "Translated Sentence: ನಾನು ಹೊಸ ಭಾಷೆಗಳನ್ನು ಕಲಿಯಲು ಇಷ್ಟಪಡುತ್ತೇನೆ ಏಕೆಂದರೆ ಇದು ವಿಭಿನ್ನ ಸಂಸ್ಕೃತಿಗಳೊಂದಿಗೆ ಸಂಪರ್ಕ ಸಾಧಿಸಲು ನನಗೆ ಸಹಾಯ ಮಾಡುತ್ತದೆ.\n",
            "-----------------------------\n",
            "Translation for marathi\n",
            "English Sentence: I love learning new languages because it helps me connect with different cultures.\n",
            "Translated Sentence: मला नवीन भाषा शिकायला आवडतात कारण यामुळे मला वेगवेगळ्या संस्कृतींशी जोडले जाण्यास मदत होते.\n",
            "-----------------------------\n",
            "Translation for malayalam\n",
            "English Sentence: I love learning new languages because it helps me connect with different cultures.\n",
            "Translated Sentence: വ്യത്യസ്ത സംസ്കാരങ്ങളുമായി ബന്ധപ്പെടാൻ സഹായിക്കുന്നതിനാൽ എനിക്ക് പുതിയ ഭാഷകൾ പഠിക്കാൻ ഇഷ്ടമാണ്.\n",
            "-----------------------------\n",
            "Translation for gujarati\n",
            "English Sentence: I love learning new languages because it helps me connect with different cultures.\n",
            "Translated Sentence: મને નવી ભાષાઓ શીખવી ગમે છે કારણ કે તે મને વિવિધ સંસ્કૃતિઓ સાથે જોડવામાં મદદ કરે છે.\n",
            "-----------------------------\n",
            "Translation for punjabi\n",
            "English Sentence: I love learning new languages because it helps me connect with different cultures.\n",
            "Translated Sentence: ਮੈਨੂੰ ਨਵੀਆਂ ਭਾਸ਼ਾਵਾਂ ਸਿੱਖਣਾ ਪਸੰਦ ਹੈ ਕਿਉਂਕਿ ਇਹ ਮੈਨੂੰ ਵੱਖ-ਵੱਖ ਸੱਭਿਆਚਾਰਾਂ ਨਾਲ ਜੁਡ਼ਨ ਵਿੱਚ ਸਹਾਇਤਾ ਕਰਦੀ ਹੈ।\n",
            "-----------------------------\n",
            "Translation for telugu\n",
            "English Sentence: I love learning new languages because it helps me connect with different cultures.\n",
            "Translated Sentence: నేను కొత్త భాషలను నేర్చుకోవడాన్ని ఇష్టపడతాను ఎందుకంటే ఇది వివిధ సంస్కృతులతో కనెక్ట్ అవ్వడానికి నాకు సహాయపడుతుంది.\n",
            "-----------------------------\n",
            "Translation for tamil\n",
            "English Sentence: I love learning new languages because it helps me connect with different cultures.\n",
            "Translated Sentence: நான் புதிய மொழிகளைக் கற்றுக்கொள்வதை விரும்புகிறேன், ஏனெனில் இது வெவ்வேறு கலாச்சாரங்களுடன் இணைக்க உதவுகிறது.\n"
          ]
        }
      ],
      "source": [
        "LANGUAGE_CODE_MAPPING = {\n",
        "    'bengali': 'ben_Beng',\n",
        "    'hindi': 'hin_Deva',\n",
        "    'kannada': 'kan_Knda',\n",
        "    'marathi': 'mar_Deva',\n",
        "    'malayalam': 'mal_Mlym',\n",
        "    'gujarati': 'guj_Gujr',\n",
        "    'punjabi': 'pan_Guru',\n",
        "    'telugu': 'tel_Telu',\n",
        "    'tamil': 'tam_Taml'\n",
        "}\n",
        "\n",
        "single_sentence = [\"I love learning new languages because it helps me connect with different cultures.\"]\n",
        "for language in LANGUAGE_CODE_MAPPING:\n",
        "    tgt_lang = LANGUAGE_CODE_MAPPING[language]\n",
        "    output = en_to_in_model.batch_translate(single_sentence, src_lang=\"eng_Latn\", tgt_lang=tgt_lang, beam_len=3)\n",
        "    print(\"-----------------------------\")\n",
        "    print(f\"Translation for {language}\")\n",
        "    print(f\"English Sentence: {single_sentence[0]}\")\n",
        "    print(f\"Translated Sentence: {output[0]}\")"
      ]
    },
    {
      "cell_type": "markdown",
      "metadata": {
        "id": "Qvs8OPvY_24o"
      },
      "source": [
        "# Indic-English"
      ]
    },
    {
      "cell_type": "code",
      "execution_count": null,
      "metadata": {
        "colab": {
          "base_uri": "https://localhost:8080/"
        },
        "id": "uL-Gsm5Q20a6",
        "outputId": "85b1cd7b-15d2-4de3-c6c1-fce53efd5038"
      },
      "outputs": [
        {
          "name": "stdout",
          "output_type": "stream",
          "text": [
            "-----------------------------\n",
            "English Sentence: Hello, how are you doing today? I hope you are having a great day.\n",
            "Indic Sentence: नमस्कार, आज आप कैसे हैं? मुझे आशा है कि आपका दिन अच्छा रहा होगा।\n",
            "-----------------------------\n",
            "English Sentence: I love learning new languages because it helps me connect with different cultures.\n",
            "Indic Sentence: मुझे नई भाषाएँ सीखना पसंद है क्योंकि यह मुझे विभिन्न संस्कृतियों से जुड़ने में मदद करता है।\n",
            "-----------------------------\n",
            "English Sentence: What is your favorite food to eat when you are feeling happy or celebrating something?\n",
            "Indic Sentence: जब आप खुश महसूस कर रहे हों या कुछ जश्न मना रहे हों तो खाने के लिए आपका पसंदीदा भोजन क्या है?\n",
            "-----------------------------\n",
            "English Sentence: She is reading a fascinating book about the history of ancient civilizations.\n",
            "Indic Sentence: वह प्राचीन सभ्यताओं के इतिहास के बारे में एक आकर्षक पुस्तक पढ़ रही है।\n",
            "-----------------------------\n",
            "English Sentence: The weather is very nice today, and I am thinking of going for a walk in the park.\n",
            "Indic Sentence: आज मौसम बहुत अच्छा है, और मैं पार्क में टहलने जाने के बारे में सोच रहा हूँ।\n"
          ]
        }
      ],
      "source": [
        "sentences = [\n",
        "    \"Hello, how are you doing today? I hope you are having a great day.\",\n",
        "    \"I love learning new languages because it helps me connect with different cultures.\",\n",
        "    \"What is your favorite food to eat when you are feeling happy or celebrating something?\",\n",
        "    \"She is reading a fascinating book about the history of ancient civilizations.\",\n",
        "    \"The weather is very nice today, and I am thinking of going for a walk in the park.\"\n",
        "]\n",
        "\n",
        "output = en_to_in_model.batch_translate(sentences, src_lang=\"eng_Latn\", tgt_lang=\"hin_Deva\", beam_len=3)\n",
        "for i, sentence in enumerate(sentences):\n",
        "    print(\"-----------------------------\")\n",
        "    print(f\"English Sentence: {sentence}\")\n",
        "    print(f\"Indic Sentence: {output[i]}\")"
      ]
    },
    {
      "cell_type": "code",
      "execution_count": null,
      "metadata": {
        "id": "XJgXYKQ2284I"
      },
      "outputs": [],
      "source": []
    }
  ],
  "metadata": {
    "accelerator": "GPU",
    "colab": {
      "gpuType": "T4",
      "provenance": []
    },
    "kernelspec": {
      "display_name": "Python 3",
      "name": "python3"
    },
    "language_info": {
      "name": "python"
    },
    "widgets": {
      "application/vnd.jupyter.widget-state+json": {
        "0913d939cb9b4eb5bbb0889424715fc9": {
          "model_module": "@jupyter-widgets/controls",
          "model_module_version": "1.5.0",
          "model_name": "HTMLModel",
          "state": {
            "_dom_classes": [],
            "_model_module": "@jupyter-widgets/controls",
            "_model_module_version": "1.5.0",
            "_model_name": "HTMLModel",
            "_view_count": null,
            "_view_module": "@jupyter-widgets/controls",
            "_view_module_version": "1.5.0",
            "_view_name": "HTMLView",
            "description": "",
            "description_tooltip": null,
            "layout": "IPY_MODEL_646c8ffc6ad64f7183e5d073615c8646",
            "placeholder": "​",
            "style": "IPY_MODEL_629b4904e58f43828f8ba82bf4d9c1f8",
            "value": "<center> <img\nsrc=https://huggingface.co/front/assets/huggingface_logo-noborder.svg\nalt='Hugging Face'> <br> Copy a token from <a\nhref=\"https://huggingface.co/settings/tokens\" target=\"_blank\">your Hugging Face\ntokens page</a> and paste it below. <br> Immediately click login after copying\nyour token or it might be stored in plain text in this notebook file. </center>"
          }
        },
        "113d649b522640eca20e352ac68f853c": {
          "model_module": "@jupyter-widgets/base",
          "model_module_version": "1.2.0",
          "model_name": "LayoutModel",
          "state": {
            "_model_module": "@jupyter-widgets/base",
            "_model_module_version": "1.2.0",
            "_model_name": "LayoutModel",
            "_view_count": null,
            "_view_module": "@jupyter-widgets/base",
            "_view_module_version": "1.2.0",
            "_view_name": "LayoutView",
            "align_content": null,
            "align_items": null,
            "align_self": null,
            "border": null,
            "bottom": null,
            "display": null,
            "flex": null,
            "flex_flow": null,
            "grid_area": null,
            "grid_auto_columns": null,
            "grid_auto_flow": null,
            "grid_auto_rows": null,
            "grid_column": null,
            "grid_gap": null,
            "grid_row": null,
            "grid_template_areas": null,
            "grid_template_columns": null,
            "grid_template_rows": null,
            "height": null,
            "justify_content": null,
            "justify_items": null,
            "left": null,
            "margin": null,
            "max_height": null,
            "max_width": null,
            "min_height": null,
            "min_width": null,
            "object_fit": null,
            "object_position": null,
            "order": null,
            "overflow": null,
            "overflow_x": null,
            "overflow_y": null,
            "padding": null,
            "right": null,
            "top": null,
            "visibility": null,
            "width": null
          }
        },
        "356e997325da491aa115c4348883d9c6": {
          "model_module": "@jupyter-widgets/base",
          "model_module_version": "1.2.0",
          "model_name": "LayoutModel",
          "state": {
            "_model_module": "@jupyter-widgets/base",
            "_model_module_version": "1.2.0",
            "_model_name": "LayoutModel",
            "_view_count": null,
            "_view_module": "@jupyter-widgets/base",
            "_view_module_version": "1.2.0",
            "_view_name": "LayoutView",
            "align_content": null,
            "align_items": null,
            "align_self": null,
            "border": null,
            "bottom": null,
            "display": null,
            "flex": null,
            "flex_flow": null,
            "grid_area": null,
            "grid_auto_columns": null,
            "grid_auto_flow": null,
            "grid_auto_rows": null,
            "grid_column": null,
            "grid_gap": null,
            "grid_row": null,
            "grid_template_areas": null,
            "grid_template_columns": null,
            "grid_template_rows": null,
            "height": null,
            "justify_content": null,
            "justify_items": null,
            "left": null,
            "margin": null,
            "max_height": null,
            "max_width": null,
            "min_height": null,
            "min_width": null,
            "object_fit": null,
            "object_position": null,
            "order": null,
            "overflow": null,
            "overflow_x": null,
            "overflow_y": null,
            "padding": null,
            "right": null,
            "top": null,
            "visibility": null,
            "width": "20px"
          }
        },
        "3adafb3c49bd46daa2a0ce3517b85534": {
          "model_module": "@jupyter-widgets/controls",
          "model_module_version": "1.5.0",
          "model_name": "FloatProgressModel",
          "state": {
            "_dom_classes": [],
            "_model_module": "@jupyter-widgets/controls",
            "_model_module_version": "1.5.0",
            "_model_name": "FloatProgressModel",
            "_view_count": null,
            "_view_module": "@jupyter-widgets/controls",
            "_view_module_version": "1.5.0",
            "_view_name": "ProgressView",
            "bar_style": "success",
            "description": "",
            "description_tooltip": null,
            "layout": "IPY_MODEL_356e997325da491aa115c4348883d9c6",
            "max": 1,
            "min": 0,
            "orientation": "horizontal",
            "style": "IPY_MODEL_cfb71ed67d0042ed8abe81e1b07d0322",
            "value": 0
          }
        },
        "445ff885d47c407d9b974b09da2b319c": {
          "model_module": "@jupyter-widgets/controls",
          "model_module_version": "1.5.0",
          "model_name": "DescriptionStyleModel",
          "state": {
            "_model_module": "@jupyter-widgets/controls",
            "_model_module_version": "1.5.0",
            "_model_name": "DescriptionStyleModel",
            "_view_count": null,
            "_view_module": "@jupyter-widgets/base",
            "_view_module_version": "1.2.0",
            "_view_name": "StyleView",
            "description_width": ""
          }
        },
        "452bde5b4c86486787551a8fc7d1a2bf": {
          "model_module": "@jupyter-widgets/controls",
          "model_module_version": "1.5.0",
          "model_name": "PasswordModel",
          "state": {
            "_dom_classes": [],
            "_model_module": "@jupyter-widgets/controls",
            "_model_module_version": "1.5.0",
            "_model_name": "PasswordModel",
            "_view_count": null,
            "_view_module": "@jupyter-widgets/controls",
            "_view_module_version": "1.5.0",
            "_view_name": "PasswordView",
            "continuous_update": true,
            "description": "Token:",
            "description_tooltip": null,
            "disabled": false,
            "layout": "IPY_MODEL_972af7dc93ec44bda7fecfc1300f4698",
            "placeholder": "​",
            "style": "IPY_MODEL_99c4b3d47f3b41f49a27acda4b4c8d7d",
            "value": ""
          }
        },
        "532c18c456904191a5d4763ed2f64680": {
          "model_module": "@jupyter-widgets/base",
          "model_module_version": "1.2.0",
          "model_name": "LayoutModel",
          "state": {
            "_model_module": "@jupyter-widgets/base",
            "_model_module_version": "1.2.0",
            "_model_name": "LayoutModel",
            "_view_count": null,
            "_view_module": "@jupyter-widgets/base",
            "_view_module_version": "1.2.0",
            "_view_name": "LayoutView",
            "align_content": null,
            "align_items": null,
            "align_self": null,
            "border": null,
            "bottom": null,
            "display": null,
            "flex": null,
            "flex_flow": null,
            "grid_area": null,
            "grid_auto_columns": null,
            "grid_auto_flow": null,
            "grid_auto_rows": null,
            "grid_column": null,
            "grid_gap": null,
            "grid_row": null,
            "grid_template_areas": null,
            "grid_template_columns": null,
            "grid_template_rows": null,
            "height": null,
            "justify_content": null,
            "justify_items": null,
            "left": null,
            "margin": null,
            "max_height": null,
            "max_width": null,
            "min_height": null,
            "min_width": null,
            "object_fit": null,
            "object_position": null,
            "order": null,
            "overflow": null,
            "overflow_x": null,
            "overflow_y": null,
            "padding": null,
            "right": null,
            "top": null,
            "visibility": null,
            "width": null
          }
        },
        "53bda49760184586aaaf26b5a74c90a2": {
          "model_module": "@jupyter-widgets/base",
          "model_module_version": "1.2.0",
          "model_name": "LayoutModel",
          "state": {
            "_model_module": "@jupyter-widgets/base",
            "_model_module_version": "1.2.0",
            "_model_name": "LayoutModel",
            "_view_count": null,
            "_view_module": "@jupyter-widgets/base",
            "_view_module_version": "1.2.0",
            "_view_name": "LayoutView",
            "align_content": null,
            "align_items": null,
            "align_self": null,
            "border": null,
            "bottom": null,
            "display": null,
            "flex": null,
            "flex_flow": null,
            "grid_area": null,
            "grid_auto_columns": null,
            "grid_auto_flow": null,
            "grid_auto_rows": null,
            "grid_column": null,
            "grid_gap": null,
            "grid_row": null,
            "grid_template_areas": null,
            "grid_template_columns": null,
            "grid_template_rows": null,
            "height": null,
            "justify_content": null,
            "justify_items": null,
            "left": null,
            "margin": null,
            "max_height": null,
            "max_width": null,
            "min_height": null,
            "min_width": null,
            "object_fit": null,
            "object_position": null,
            "order": null,
            "overflow": null,
            "overflow_x": null,
            "overflow_y": null,
            "padding": null,
            "right": null,
            "top": null,
            "visibility": null,
            "width": null
          }
        },
        "5aa5a63579624020b5caa9a3fa5e406a": {
          "model_module": "@jupyter-widgets/controls",
          "model_module_version": "1.5.0",
          "model_name": "HBoxModel",
          "state": {
            "_dom_classes": [],
            "_model_module": "@jupyter-widgets/controls",
            "_model_module_version": "1.5.0",
            "_model_name": "HBoxModel",
            "_view_count": null,
            "_view_module": "@jupyter-widgets/controls",
            "_view_module_version": "1.5.0",
            "_view_name": "HBoxView",
            "box_style": "",
            "children": [
              "IPY_MODEL_ed084dca9ec94d01897d262a506cc295",
              "IPY_MODEL_3adafb3c49bd46daa2a0ce3517b85534",
              "IPY_MODEL_cd8f0e6daaeb4d4d80b2483884acf7bb"
            ],
            "layout": "IPY_MODEL_532c18c456904191a5d4763ed2f64680"
          }
        },
        "629b4904e58f43828f8ba82bf4d9c1f8": {
          "model_module": "@jupyter-widgets/controls",
          "model_module_version": "1.5.0",
          "model_name": "DescriptionStyleModel",
          "state": {
            "_model_module": "@jupyter-widgets/controls",
            "_model_module_version": "1.5.0",
            "_model_name": "DescriptionStyleModel",
            "_view_count": null,
            "_view_module": "@jupyter-widgets/base",
            "_view_module_version": "1.2.0",
            "_view_name": "StyleView",
            "description_width": ""
          }
        },
        "646c8ffc6ad64f7183e5d073615c8646": {
          "model_module": "@jupyter-widgets/base",
          "model_module_version": "1.2.0",
          "model_name": "LayoutModel",
          "state": {
            "_model_module": "@jupyter-widgets/base",
            "_model_module_version": "1.2.0",
            "_model_name": "LayoutModel",
            "_view_count": null,
            "_view_module": "@jupyter-widgets/base",
            "_view_module_version": "1.2.0",
            "_view_name": "LayoutView",
            "align_content": null,
            "align_items": null,
            "align_self": null,
            "border": null,
            "bottom": null,
            "display": null,
            "flex": null,
            "flex_flow": null,
            "grid_area": null,
            "grid_auto_columns": null,
            "grid_auto_flow": null,
            "grid_auto_rows": null,
            "grid_column": null,
            "grid_gap": null,
            "grid_row": null,
            "grid_template_areas": null,
            "grid_template_columns": null,
            "grid_template_rows": null,
            "height": null,
            "justify_content": null,
            "justify_items": null,
            "left": null,
            "margin": null,
            "max_height": null,
            "max_width": null,
            "min_height": null,
            "min_width": null,
            "object_fit": null,
            "object_position": null,
            "order": null,
            "overflow": null,
            "overflow_x": null,
            "overflow_y": null,
            "padding": null,
            "right": null,
            "top": null,
            "visibility": null,
            "width": null
          }
        },
        "732a73d45657431281159032e0c06593": {
          "model_module": "@jupyter-widgets/controls",
          "model_module_version": "1.5.0",
          "model_name": "DescriptionStyleModel",
          "state": {
            "_model_module": "@jupyter-widgets/controls",
            "_model_module_version": "1.5.0",
            "_model_name": "DescriptionStyleModel",
            "_view_count": null,
            "_view_module": "@jupyter-widgets/base",
            "_view_module_version": "1.2.0",
            "_view_name": "StyleView",
            "description_width": ""
          }
        },
        "77238e5fcdfc4a6babf8ae5dfccdcf17": {
          "model_module": "@jupyter-widgets/controls",
          "model_module_version": "1.5.0",
          "model_name": "ButtonStyleModel",
          "state": {
            "_model_module": "@jupyter-widgets/controls",
            "_model_module_version": "1.5.0",
            "_model_name": "ButtonStyleModel",
            "_view_count": null,
            "_view_module": "@jupyter-widgets/base",
            "_view_module_version": "1.2.0",
            "_view_name": "StyleView",
            "button_color": null,
            "font_weight": ""
          }
        },
        "85d2d87b480a4f2f87d1e294b984e328": {
          "model_module": "@jupyter-widgets/controls",
          "model_module_version": "1.5.0",
          "model_name": "ButtonModel",
          "state": {
            "_dom_classes": [],
            "_model_module": "@jupyter-widgets/controls",
            "_model_module_version": "1.5.0",
            "_model_name": "ButtonModel",
            "_view_count": null,
            "_view_module": "@jupyter-widgets/controls",
            "_view_module_version": "1.5.0",
            "_view_name": "ButtonView",
            "button_style": "",
            "description": "Login",
            "disabled": false,
            "icon": "",
            "layout": "IPY_MODEL_b5a78e0a586d4ff8a2f4a37cba5e9cf7",
            "style": "IPY_MODEL_77238e5fcdfc4a6babf8ae5dfccdcf17",
            "tooltip": ""
          }
        },
        "972af7dc93ec44bda7fecfc1300f4698": {
          "model_module": "@jupyter-widgets/base",
          "model_module_version": "1.2.0",
          "model_name": "LayoutModel",
          "state": {
            "_model_module": "@jupyter-widgets/base",
            "_model_module_version": "1.2.0",
            "_model_name": "LayoutModel",
            "_view_count": null,
            "_view_module": "@jupyter-widgets/base",
            "_view_module_version": "1.2.0",
            "_view_name": "LayoutView",
            "align_content": null,
            "align_items": null,
            "align_self": null,
            "border": null,
            "bottom": null,
            "display": null,
            "flex": null,
            "flex_flow": null,
            "grid_area": null,
            "grid_auto_columns": null,
            "grid_auto_flow": null,
            "grid_auto_rows": null,
            "grid_column": null,
            "grid_gap": null,
            "grid_row": null,
            "grid_template_areas": null,
            "grid_template_columns": null,
            "grid_template_rows": null,
            "height": null,
            "justify_content": null,
            "justify_items": null,
            "left": null,
            "margin": null,
            "max_height": null,
            "max_width": null,
            "min_height": null,
            "min_width": null,
            "object_fit": null,
            "object_position": null,
            "order": null,
            "overflow": null,
            "overflow_x": null,
            "overflow_y": null,
            "padding": null,
            "right": null,
            "top": null,
            "visibility": null,
            "width": null
          }
        },
        "99c4b3d47f3b41f49a27acda4b4c8d7d": {
          "model_module": "@jupyter-widgets/controls",
          "model_module_version": "1.5.0",
          "model_name": "DescriptionStyleModel",
          "state": {
            "_model_module": "@jupyter-widgets/controls",
            "_model_module_version": "1.5.0",
            "_model_name": "DescriptionStyleModel",
            "_view_count": null,
            "_view_module": "@jupyter-widgets/base",
            "_view_module_version": "1.2.0",
            "_view_name": "StyleView",
            "description_width": ""
          }
        },
        "9a256de65ac64de0897a70571f7d0880": {
          "model_module": "@jupyter-widgets/base",
          "model_module_version": "1.2.0",
          "model_name": "LayoutModel",
          "state": {
            "_model_module": "@jupyter-widgets/base",
            "_model_module_version": "1.2.0",
            "_model_name": "LayoutModel",
            "_view_count": null,
            "_view_module": "@jupyter-widgets/base",
            "_view_module_version": "1.2.0",
            "_view_name": "LayoutView",
            "align_content": null,
            "align_items": null,
            "align_self": null,
            "border": null,
            "bottom": null,
            "display": null,
            "flex": null,
            "flex_flow": null,
            "grid_area": null,
            "grid_auto_columns": null,
            "grid_auto_flow": null,
            "grid_auto_rows": null,
            "grid_column": null,
            "grid_gap": null,
            "grid_row": null,
            "grid_template_areas": null,
            "grid_template_columns": null,
            "grid_template_rows": null,
            "height": null,
            "justify_content": null,
            "justify_items": null,
            "left": null,
            "margin": null,
            "max_height": null,
            "max_width": null,
            "min_height": null,
            "min_width": null,
            "object_fit": null,
            "object_position": null,
            "order": null,
            "overflow": null,
            "overflow_x": null,
            "overflow_y": null,
            "padding": null,
            "right": null,
            "top": null,
            "visibility": null,
            "width": null
          }
        },
        "b5a78e0a586d4ff8a2f4a37cba5e9cf7": {
          "model_module": "@jupyter-widgets/base",
          "model_module_version": "1.2.0",
          "model_name": "LayoutModel",
          "state": {
            "_model_module": "@jupyter-widgets/base",
            "_model_module_version": "1.2.0",
            "_model_name": "LayoutModel",
            "_view_count": null,
            "_view_module": "@jupyter-widgets/base",
            "_view_module_version": "1.2.0",
            "_view_name": "LayoutView",
            "align_content": null,
            "align_items": null,
            "align_self": null,
            "border": null,
            "bottom": null,
            "display": null,
            "flex": null,
            "flex_flow": null,
            "grid_area": null,
            "grid_auto_columns": null,
            "grid_auto_flow": null,
            "grid_auto_rows": null,
            "grid_column": null,
            "grid_gap": null,
            "grid_row": null,
            "grid_template_areas": null,
            "grid_template_columns": null,
            "grid_template_rows": null,
            "height": null,
            "justify_content": null,
            "justify_items": null,
            "left": null,
            "margin": null,
            "max_height": null,
            "max_width": null,
            "min_height": null,
            "min_width": null,
            "object_fit": null,
            "object_position": null,
            "order": null,
            "overflow": null,
            "overflow_x": null,
            "overflow_y": null,
            "padding": null,
            "right": null,
            "top": null,
            "visibility": null,
            "width": null
          }
        },
        "b7752fef93bc4febb330f36008b4f4ca": {
          "model_module": "@jupyter-widgets/controls",
          "model_module_version": "1.5.0",
          "model_name": "LabelModel",
          "state": {
            "_dom_classes": [],
            "_model_module": "@jupyter-widgets/controls",
            "_model_module_version": "1.5.0",
            "_model_name": "LabelModel",
            "_view_count": null,
            "_view_module": "@jupyter-widgets/controls",
            "_view_module_version": "1.5.0",
            "_view_name": "LabelView",
            "description": "",
            "description_tooltip": null,
            "layout": "IPY_MODEL_113d649b522640eca20e352ac68f853c",
            "placeholder": "​",
            "style": "IPY_MODEL_fcac52b652fa48bbb3fcfaf281b4ad68",
            "value": "Connecting..."
          }
        },
        "ba1e5803418b491e9c5df50f3da9a9eb": {
          "model_module": "@jupyter-widgets/controls",
          "model_module_version": "1.5.0",
          "model_name": "DescriptionStyleModel",
          "state": {
            "_model_module": "@jupyter-widgets/controls",
            "_model_module_version": "1.5.0",
            "_model_name": "DescriptionStyleModel",
            "_view_count": null,
            "_view_module": "@jupyter-widgets/base",
            "_view_module_version": "1.2.0",
            "_view_name": "StyleView",
            "description_width": ""
          }
        },
        "be2ab3df2de44c43baeeebaf55a2d246": {
          "model_module": "@jupyter-widgets/controls",
          "model_module_version": "1.5.0",
          "model_name": "DescriptionStyleModel",
          "state": {
            "_model_module": "@jupyter-widgets/controls",
            "_model_module_version": "1.5.0",
            "_model_name": "DescriptionStyleModel",
            "_view_count": null,
            "_view_module": "@jupyter-widgets/base",
            "_view_module_version": "1.2.0",
            "_view_name": "StyleView",
            "description_width": ""
          }
        },
        "bfbb9acb60ea44a99f886a1600b67060": {
          "model_module": "@jupyter-widgets/base",
          "model_module_version": "1.2.0",
          "model_name": "LayoutModel",
          "state": {
            "_model_module": "@jupyter-widgets/base",
            "_model_module_version": "1.2.0",
            "_model_name": "LayoutModel",
            "_view_count": null,
            "_view_module": "@jupyter-widgets/base",
            "_view_module_version": "1.2.0",
            "_view_name": "LayoutView",
            "align_content": null,
            "align_items": null,
            "align_self": null,
            "border": null,
            "bottom": null,
            "display": null,
            "flex": null,
            "flex_flow": null,
            "grid_area": null,
            "grid_auto_columns": null,
            "grid_auto_flow": null,
            "grid_auto_rows": null,
            "grid_column": null,
            "grid_gap": null,
            "grid_row": null,
            "grid_template_areas": null,
            "grid_template_columns": null,
            "grid_template_rows": null,
            "height": null,
            "justify_content": null,
            "justify_items": null,
            "left": null,
            "margin": null,
            "max_height": null,
            "max_width": null,
            "min_height": null,
            "min_width": null,
            "object_fit": null,
            "object_position": null,
            "order": null,
            "overflow": null,
            "overflow_x": null,
            "overflow_y": null,
            "padding": null,
            "right": null,
            "top": null,
            "visibility": null,
            "width": null
          }
        },
        "cd6e5c89bb9746b089a2aafeed2bd318": {
          "model_module": "@jupyter-widgets/controls",
          "model_module_version": "1.5.0",
          "model_name": "CheckboxModel",
          "state": {
            "_dom_classes": [],
            "_model_module": "@jupyter-widgets/controls",
            "_model_module_version": "1.5.0",
            "_model_name": "CheckboxModel",
            "_view_count": null,
            "_view_module": "@jupyter-widgets/controls",
            "_view_module_version": "1.5.0",
            "_view_name": "CheckboxView",
            "description": "Add token as git credential?",
            "description_tooltip": null,
            "disabled": false,
            "indent": true,
            "layout": "IPY_MODEL_bfbb9acb60ea44a99f886a1600b67060",
            "style": "IPY_MODEL_732a73d45657431281159032e0c06593",
            "value": true
          }
        },
        "cd8f0e6daaeb4d4d80b2483884acf7bb": {
          "model_module": "@jupyter-widgets/controls",
          "model_module_version": "1.5.0",
          "model_name": "HTMLModel",
          "state": {
            "_dom_classes": [],
            "_model_module": "@jupyter-widgets/controls",
            "_model_module_version": "1.5.0",
            "_model_name": "HTMLModel",
            "_view_count": null,
            "_view_module": "@jupyter-widgets/controls",
            "_view_module_version": "1.5.0",
            "_view_name": "HTMLView",
            "description": "",
            "description_tooltip": null,
            "layout": "IPY_MODEL_e915b4a9e4e3438bb79eb68aca889f7e",
            "placeholder": "​",
            "style": "IPY_MODEL_445ff885d47c407d9b974b09da2b319c",
            "value": " 0/0 [00:00&lt;?, ?it/s]"
          }
        },
        "cfb71ed67d0042ed8abe81e1b07d0322": {
          "model_module": "@jupyter-widgets/controls",
          "model_module_version": "1.5.0",
          "model_name": "ProgressStyleModel",
          "state": {
            "_model_module": "@jupyter-widgets/controls",
            "_model_module_version": "1.5.0",
            "_model_name": "ProgressStyleModel",
            "_view_count": null,
            "_view_module": "@jupyter-widgets/base",
            "_view_module_version": "1.2.0",
            "_view_name": "StyleView",
            "bar_color": null,
            "description_width": ""
          }
        },
        "e915b4a9e4e3438bb79eb68aca889f7e": {
          "model_module": "@jupyter-widgets/base",
          "model_module_version": "1.2.0",
          "model_name": "LayoutModel",
          "state": {
            "_model_module": "@jupyter-widgets/base",
            "_model_module_version": "1.2.0",
            "_model_name": "LayoutModel",
            "_view_count": null,
            "_view_module": "@jupyter-widgets/base",
            "_view_module_version": "1.2.0",
            "_view_name": "LayoutView",
            "align_content": null,
            "align_items": null,
            "align_self": null,
            "border": null,
            "bottom": null,
            "display": null,
            "flex": null,
            "flex_flow": null,
            "grid_area": null,
            "grid_auto_columns": null,
            "grid_auto_flow": null,
            "grid_auto_rows": null,
            "grid_column": null,
            "grid_gap": null,
            "grid_row": null,
            "grid_template_areas": null,
            "grid_template_columns": null,
            "grid_template_rows": null,
            "height": null,
            "justify_content": null,
            "justify_items": null,
            "left": null,
            "margin": null,
            "max_height": null,
            "max_width": null,
            "min_height": null,
            "min_width": null,
            "object_fit": null,
            "object_position": null,
            "order": null,
            "overflow": null,
            "overflow_x": null,
            "overflow_y": null,
            "padding": null,
            "right": null,
            "top": null,
            "visibility": null,
            "width": null
          }
        },
        "ed084dca9ec94d01897d262a506cc295": {
          "model_module": "@jupyter-widgets/controls",
          "model_module_version": "1.5.0",
          "model_name": "HTMLModel",
          "state": {
            "_dom_classes": [],
            "_model_module": "@jupyter-widgets/controls",
            "_model_module_version": "1.5.0",
            "_model_name": "HTMLModel",
            "_view_count": null,
            "_view_module": "@jupyter-widgets/controls",
            "_view_module_version": "1.5.0",
            "_view_name": "HTMLView",
            "description": "",
            "description_tooltip": null,
            "layout": "IPY_MODEL_53bda49760184586aaaf26b5a74c90a2",
            "placeholder": "​",
            "style": "IPY_MODEL_ba1e5803418b491e9c5df50f3da9a9eb",
            "value": ""
          }
        },
        "f0fc2086aad14c1b865abe2efbda8337": {
          "model_module": "@jupyter-widgets/controls",
          "model_module_version": "1.5.0",
          "model_name": "VBoxModel",
          "state": {
            "_dom_classes": [],
            "_model_module": "@jupyter-widgets/controls",
            "_model_module_version": "1.5.0",
            "_model_name": "VBoxModel",
            "_view_count": null,
            "_view_module": "@jupyter-widgets/controls",
            "_view_module_version": "1.5.0",
            "_view_name": "VBoxView",
            "box_style": "",
            "children": [],
            "layout": "IPY_MODEL_fce1700b59dd4e41aa91d098db1d7e1e"
          }
        },
        "f8176169aa4c4441a0d3c09ce7f750b8": {
          "model_module": "@jupyter-widgets/controls",
          "model_module_version": "1.5.0",
          "model_name": "HTMLModel",
          "state": {
            "_dom_classes": [],
            "_model_module": "@jupyter-widgets/controls",
            "_model_module_version": "1.5.0",
            "_model_name": "HTMLModel",
            "_view_count": null,
            "_view_module": "@jupyter-widgets/controls",
            "_view_module_version": "1.5.0",
            "_view_name": "HTMLView",
            "description": "",
            "description_tooltip": null,
            "layout": "IPY_MODEL_9a256de65ac64de0897a70571f7d0880",
            "placeholder": "​",
            "style": "IPY_MODEL_be2ab3df2de44c43baeeebaf55a2d246",
            "value": "\n<b>Pro Tip:</b> If you don't already have one, you can create a dedicated\n'notebooks' token with 'write' access, that you can then easily reuse for all\nnotebooks. </center>"
          }
        },
        "fcac52b652fa48bbb3fcfaf281b4ad68": {
          "model_module": "@jupyter-widgets/controls",
          "model_module_version": "1.5.0",
          "model_name": "DescriptionStyleModel",
          "state": {
            "_model_module": "@jupyter-widgets/controls",
            "_model_module_version": "1.5.0",
            "_model_name": "DescriptionStyleModel",
            "_view_count": null,
            "_view_module": "@jupyter-widgets/base",
            "_view_module_version": "1.2.0",
            "_view_name": "StyleView",
            "description_width": ""
          }
        },
        "fce1700b59dd4e41aa91d098db1d7e1e": {
          "model_module": "@jupyter-widgets/base",
          "model_module_version": "1.2.0",
          "model_name": "LayoutModel",
          "state": {
            "_model_module": "@jupyter-widgets/base",
            "_model_module_version": "1.2.0",
            "_model_name": "LayoutModel",
            "_view_count": null,
            "_view_module": "@jupyter-widgets/base",
            "_view_module_version": "1.2.0",
            "_view_name": "LayoutView",
            "align_content": null,
            "align_items": "center",
            "align_self": null,
            "border": null,
            "bottom": null,
            "display": "flex",
            "flex": null,
            "flex_flow": "column",
            "grid_area": null,
            "grid_auto_columns": null,
            "grid_auto_flow": null,
            "grid_auto_rows": null,
            "grid_column": null,
            "grid_gap": null,
            "grid_row": null,
            "grid_template_areas": null,
            "grid_template_columns": null,
            "grid_template_rows": null,
            "height": null,
            "justify_content": null,
            "justify_items": null,
            "left": null,
            "margin": null,
            "max_height": null,
            "max_width": null,
            "min_height": null,
            "min_width": null,
            "object_fit": null,
            "object_position": null,
            "order": null,
            "overflow": null,
            "overflow_x": null,
            "overflow_y": null,
            "padding": null,
            "right": null,
            "top": null,
            "visibility": null,
            "width": "50%"
          }
        }
      }
    }
  },
  "nbformat": 4,
  "nbformat_minor": 0
}
