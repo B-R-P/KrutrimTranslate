{
  "cells": [
    {
      "cell_type": "code",
      "execution_count": null,
      "metadata": {
        "colab": {
          "base_uri": "https://localhost:8080/"
        },
        "id": "9sgLJdQUug4d",
        "outputId": "c8a9ec68-5f7e-4143-fb85-a05e29e46ffe"
      },
      "outputs": [],
      "source": [
        "!git clone https://github.com/ola-krutrim/KrutrimTranslate.git"
      ]
    },
    {
      "cell_type": "code",
      "execution_count": 2,
      "metadata": {
        "id": "zzxfNHm2z8LO"
      },
      "outputs": [],
      "source": [
        "import os\n",
        "os.chdir(\"/content/KrutrimTranslate\")"
      ]
    },
    {
      "cell_type": "markdown",
      "metadata": {
        "id": "txMVkDh5_X6P"
      },
      "source": [
        "# HF Login"
      ]
    },
    {
      "cell_type": "code",
      "execution_count": null,
      "metadata": {
        "colab": {
          "base_uri": "https://localhost:8080/",
          "height": 17,
          "referenced_widgets": [
            "383c7793a2c9488c8c5ee465dc121d8b",
            "472d4d1fb040486e9bd35457fcd936c0",
            "af0342c280f349cea6d8602746bfcc18",
            "73ffd9ce8ba94fdd9921d7832afd65ef",
            "764dd8d4bcb945cb9712f747ea53f918",
            "4e47244d2aad4ad1812414fc5c78e96e",
            "93c12918e321472f83a86e314aa94317",
            "27c6801e9477478d914be6563cf78fc3",
            "29d4fbc532dd45358239655ef0f5e2b7",
            "63036acb272847e681d3f85393a0cb01",
            "806e29a666ec4c4aa8f0f62a86de54e3",
            "90f71d2ef112442a9272216bf56d08d6",
            "56e627cfe5594568b9494c104c356757",
            "0b24a45f754a473fafeab48688dedaca",
            "0e5486cdc1044bdc9bbc2b0b58a7f902",
            "b58ecf8daf224ecb937262999717e4f8",
            "f7534687131f4d01a78fec310ac3b8f5",
            "2000dcfad48044549ce8fdbe450c1f0e",
            "ee26aa2e99bb43eca61c015bfafacd70",
            "6ad836cebe2e470fb58ddc8e0b0e590b"
          ]
        },
        "id": "nHG8wkge4bkK",
        "outputId": "ce9ccb7f-3b55-45c7-ec6a-bd87d1ca1576"
      },
      "outputs": [],
      "source": [
        "from huggingface_hub import notebook_login\n",
        "notebook_login()"
      ]
    },
    {
      "cell_type": "markdown",
      "metadata": {
        "id": "iG2ZFpLI_TmJ"
      },
      "source": [
        "# Setup Environment"
      ]
    },
    {
      "cell_type": "code",
      "execution_count": null,
      "metadata": {
        "colab": {
          "base_uri": "https://localhost:8080/"
        },
        "collapsed": true,
        "id": "kurgR0yjuwbo",
        "outputId": "6e4e051b-e54f-4f02-912e-cce6381a3d32"
      },
      "outputs": [],
      "source": [
        "!source colab_install.sh"
      ]
    },
    {
      "cell_type": "markdown",
      "metadata": {
        "id": "7ZWTyCYr_PJg"
      },
      "source": [
        "# Download Models from HF"
      ]
    },
    {
      "cell_type": "code",
      "execution_count": null,
      "metadata": {
        "colab": {
          "base_uri": "https://localhost:8080/"
        },
        "collapsed": true,
        "id": "d_H_RTX2xoFr",
        "outputId": "3349bf84-df21-4c40-cd5d-a5bbf84159cf"
      },
      "outputs": [],
      "source": [
        "!python model_downloader.py"
      ]
    },
    {
      "cell_type": "code",
      "execution_count": 6,
      "metadata": {
        "id": "qr0bTF3_zi9j"
      },
      "outputs": [],
      "source": [
        "import os\n",
        "from time import time\n",
        "\n",
        "from IndicTrans2.inference.engine import Model"
      ]
    },
    {
      "cell_type": "code",
      "execution_count": 7,
      "metadata": {
        "id": "KxPSxniXzW_o"
      },
      "outputs": [],
      "source": [
        "EN_IN_ckpt_dir = \"static_data/ct_model_english_indic\"\n",
        "IN_EN_ckpt_dir = \"static_data/ct_model_indic_english\""
      ]
    },
    {
      "cell_type": "code",
      "execution_count": 8,
      "metadata": {
        "colab": {
          "base_uri": "https://localhost:8080/",
          "height": 120,
          "referenced_widgets": [
            "5b4fa6cf047a4c9ea1c745f0076c75fb",
            "4475021be8c44359878aad01170a837d",
            "ac7c064b837a42d786dab4b37268c8dd",
            "eb4c9b0bcc434005ac0ce61cd3755eae",
            "86437514dda1425ead1399550fbf5e8f",
            "e8c5f8c1d3a34cb6bd6717da3ccebb75",
            "253ad8b407274484977ab42641df2df4",
            "e8504f60c8e244f389d67561026337ad",
            "bb7ed25251234f5d93d9d2593f5a1952",
            "4756bd7f148441ec9873c97e064f06ff",
            "752db4febd37435692d94992f1adc7cc"
          ]
        },
        "id": "ML6U2UGlzfrh",
        "outputId": "7d0423ee-2e80-4828-bdf9-cf3596197fcd"
      },
      "outputs": [
        {
          "name": "stdout",
          "output_type": "stream",
          "text": [
            "Initializing sentencepiece model for SRC and TGT\n",
            "Initializing model for translation\n"
          ]
        },
        {
          "name": "stderr",
          "output_type": "stream",
          "text": [
            "The cache for model files in Transformers v4.22.0 has been updated. Migrating your old cache. This is a one-time only operation. You can interrupt this and resume the migration later on by calling `transformers.utils.move_cache()`.\n"
          ]
        },
        {
          "data": {
            "application/vnd.jupyter.widget-view+json": {
              "model_id": "5b4fa6cf047a4c9ea1c745f0076c75fb",
              "version_major": 2,
              "version_minor": 0
            },
            "text/plain": [
              "0it [00:00, ?it/s]"
            ]
          },
          "metadata": {},
          "output_type": "display_data"
        }
      ],
      "source": [
        "en_to_in_model = Model(EN_IN_ckpt_dir, model_type=\"ctranslate2\")"
      ]
    },
    {
      "cell_type": "markdown",
      "metadata": {
        "id": "jofFYMUk_9vf"
      },
      "source": [
        "# English-Indic"
      ]
    },
    {
      "cell_type": "code",
      "execution_count": 9,
      "metadata": {
        "colab": {
          "base_uri": "https://localhost:8080/"
        },
        "id": "q2zuRzZVzmpA",
        "outputId": "3524f4ce-aa0c-45f5-e673-a68d29c415e6"
      },
      "outputs": [
        {
          "name": "stdout",
          "output_type": "stream",
          "text": [
            "-----------------------------\n",
            "English Sentence: Hello, how are you doing today? I hope you are having a great day.\n",
            "Indic Sentence: नमस्कार, आज आप कैसे हैं? मुझे आशा है कि आपका दिन अच्छा रहा होगा।\n",
            "-----------------------------\n",
            "English Sentence: I love learning new languages because it helps me connect with different cultures.\n",
            "Indic Sentence: मुझे नई भाषाएँ सीखना पसंद है क्योंकि यह मुझे विभिन्न संस्कृतियों से जुड़ने में मदद करता है।\n",
            "-----------------------------\n",
            "English Sentence: What is your favorite food to eat when you are feeling happy or celebrating something?\n",
            "Indic Sentence: जब आप खुश महसूस कर रहे हों या कुछ जश्न मना रहे हों तो खाने के लिए आपका पसंदीदा भोजन क्या है?\n",
            "-----------------------------\n",
            "English Sentence: She is reading a fascinating book about the history of ancient civilizations.\n",
            "Indic Sentence: वह प्राचीन सभ्यताओं के इतिहास के बारे में एक आकर्षक पुस्तक पढ़ रही है।\n",
            "-----------------------------\n",
            "English Sentence: The weather is very nice today, and I am thinking of going for a walk in the park.\n",
            "Indic Sentence: आज मौसम बहुत अच्छा है, और मैं पार्क में टहलने जाने के बारे में सोच रहा हूँ।\n"
          ]
        }
      ],
      "source": [
        "sentences = [\n",
        "    \"Hello, how are you doing today? I hope you are having a great day.\",\n",
        "    \"I love learning new languages because it helps me connect with different cultures.\",\n",
        "    \"What is your favorite food to eat when you are feeling happy or celebrating something?\",\n",
        "    \"She is reading a fascinating book about the history of ancient civilizations.\",\n",
        "    \"The weather is very nice today, and I am thinking of going for a walk in the park.\"\n",
        "]\n",
        "\n",
        "output = en_to_in_model.batch_translate(sentences, src_lang=\"eng_Latn\", tgt_lang=\"hin_Deva\", beam_len=3)\n",
        "for i, sentence in enumerate(sentences):\n",
        "    print(\"-----------------------------\")\n",
        "    print(f\"English Sentence: {sentence}\")\n",
        "    print(f\"Indic Sentence: {output[i]}\")"
      ]
    },
    {
      "cell_type": "code",
      "execution_count": 10,
      "metadata": {
        "colab": {
          "base_uri": "https://localhost:8080/"
        },
        "id": "JuzV7D362xRo",
        "outputId": "0796a0bc-0ff1-4d6d-cb8e-0f8a4ea7ea2b"
      },
      "outputs": [
        {
          "name": "stdout",
          "output_type": "stream",
          "text": [
            "-----------------------------\n",
            "Translation for bengali\n",
            "English Sentence: I love learning new languages because it helps me connect with different cultures.\n",
            "Translated Sentence: আমি নতুন ভাষা শিখতে পছন্দ করি কারণ এটি আমাকে বিভিন্ন সংস্কৃতির সাথে সংযুক্ত হতে সহায়তা করে।\n",
            "-----------------------------\n",
            "Translation for hindi\n",
            "English Sentence: I love learning new languages because it helps me connect with different cultures.\n",
            "Translated Sentence: मुझे नई भाषाएँ सीखना पसंद है क्योंकि यह मुझे विभिन्न संस्कृतियों से जुड़ने में मदद करता है।\n",
            "-----------------------------\n",
            "Translation for kannada\n",
            "English Sentence: I love learning new languages because it helps me connect with different cultures.\n",
            "Translated Sentence: ನಾನು ಹೊಸ ಭಾಷೆಗಳನ್ನು ಕಲಿಯಲು ಇಷ್ಟಪಡುತ್ತೇನೆ ಏಕೆಂದರೆ ಇದು ವಿಭಿನ್ನ ಸಂಸ್ಕೃತಿಗಳೊಂದಿಗೆ ಸಂಪರ್ಕ ಸಾಧಿಸಲು ನನಗೆ ಸಹಾಯ ಮಾಡುತ್ತದೆ.\n",
            "-----------------------------\n",
            "Translation for marathi\n",
            "English Sentence: I love learning new languages because it helps me connect with different cultures.\n",
            "Translated Sentence: मला नवीन भाषा शिकायला आवडतात कारण यामुळे मला वेगवेगळ्या संस्कृतींशी जोडले जाण्यास मदत होते.\n",
            "-----------------------------\n",
            "Translation for malayalam\n",
            "English Sentence: I love learning new languages because it helps me connect with different cultures.\n",
            "Translated Sentence: വ്യത്യസ്ത സംസ്കാരങ്ങളുമായി ബന്ധപ്പെടാൻ സഹായിക്കുന്നതിനാൽ എനിക്ക് പുതിയ ഭാഷകൾ പഠിക്കാൻ ഇഷ്ടമാണ്.\n",
            "-----------------------------\n",
            "Translation for gujarati\n",
            "English Sentence: I love learning new languages because it helps me connect with different cultures.\n",
            "Translated Sentence: મને નવી ભાષાઓ શીખવી ગમે છે કારણ કે તે મને વિવિધ સંસ્કૃતિઓ સાથે જોડવામાં મદદ કરે છે.\n",
            "-----------------------------\n",
            "Translation for punjabi\n",
            "English Sentence: I love learning new languages because it helps me connect with different cultures.\n",
            "Translated Sentence: ਮੈਨੂੰ ਨਵੀਆਂ ਭਾਸ਼ਾਵਾਂ ਸਿੱਖਣਾ ਪਸੰਦ ਹੈ ਕਿਉਂਕਿ ਇਹ ਮੈਨੂੰ ਵੱਖ-ਵੱਖ ਸੱਭਿਆਚਾਰਾਂ ਨਾਲ ਜੁਡ਼ਨ ਵਿੱਚ ਸਹਾਇਤਾ ਕਰਦੀ ਹੈ।\n",
            "-----------------------------\n",
            "Translation for telugu\n",
            "English Sentence: I love learning new languages because it helps me connect with different cultures.\n",
            "Translated Sentence: నేను కొత్త భాషలను నేర్చుకోవడాన్ని ఇష్టపడతాను ఎందుకంటే ఇది వివిధ సంస్కృతులతో కనెక్ట్ అవ్వడానికి నాకు సహాయపడుతుంది.\n",
            "-----------------------------\n",
            "Translation for tamil\n",
            "English Sentence: I love learning new languages because it helps me connect with different cultures.\n",
            "Translated Sentence: நான் புதிய மொழிகளைக் கற்றுக்கொள்வதை விரும்புகிறேன், ஏனெனில் இது வெவ்வேறு கலாச்சாரங்களுடன் இணைக்க உதவுகிறது.\n"
          ]
        }
      ],
      "source": [
        "LANGUAGE_CODE_MAPPING = {\n",
        "    'bengali': 'ben_Beng',\n",
        "    'hindi': 'hin_Deva',\n",
        "    'kannada': 'kan_Knda',\n",
        "    'marathi': 'mar_Deva',\n",
        "    'malayalam': 'mal_Mlym',\n",
        "    'gujarati': 'guj_Gujr',\n",
        "    'punjabi': 'pan_Guru',\n",
        "    'telugu': 'tel_Telu',\n",
        "    'tamil': 'tam_Taml'\n",
        "}\n",
        "\n",
        "single_sentence = [\"I love learning new languages because it helps me connect with different cultures.\"]\n",
        "for language in LANGUAGE_CODE_MAPPING:\n",
        "    tgt_lang = LANGUAGE_CODE_MAPPING[language]\n",
        "    output = en_to_in_model.batch_translate(single_sentence, src_lang=\"eng_Latn\", tgt_lang=tgt_lang, beam_len=3)\n",
        "    print(\"-----------------------------\")\n",
        "    print(f\"Translation for {language}\")\n",
        "    print(f\"English Sentence: {single_sentence[0]}\")\n",
        "    print(f\"Translated Sentence: {output[0]}\")"
      ]
    },
    {
      "cell_type": "markdown",
      "metadata": {
        "id": "Qvs8OPvY_24o"
      },
      "source": [
        "# Indic-English"
      ]
    },
    {
      "cell_type": "code",
      "execution_count": 12,
      "metadata": {
        "id": "3Qzx33uuH9CX"
      },
      "outputs": [],
      "source": [
        "sentences = [\n",
        "    \"नमस्ते, आप आज कैसे हैं? आशा करता हूँ कि आपका दिन अच्छा गुजर रहा है।\",\n",
        "    \"मुझे नई भाषाएँ सीखना बहुत पसंद है क्योंकि इससे मुझे अलग-अलग संस्कृतियों से जुड़ने में मदद मिलती है।\",\n",
        "    \"जब आप खुश होते हैं या कुछ सेलिब्रेट कर रहे होते हैं, तब आपका पसंदीदा खाना कौन सा होता है?\",\n",
        "    \"वह प्राचीन सभ्यताओं के इतिहास पर एक रोचक किताब पढ़ रही है।\",\n",
        "    \"आज मौसम बहुत सुहावना है, और मैं पार्क में टहलने जाने के बारे में सोच रहा हूँ।\"\n",
        "]"
      ]
    },
    {
      "cell_type": "code",
      "execution_count": 13,
      "metadata": {
        "colab": {
          "base_uri": "https://localhost:8080/"
        },
        "id": "mLlbeH4BH6nE",
        "outputId": "52e4622d-0115-46be-8bea-5f0808b8997b"
      },
      "outputs": [
        {
          "name": "stdout",
          "output_type": "stream",
          "text": [
            "Initializing sentencepiece model for SRC and TGT\n",
            "Initializing model for translation\n"
          ]
        }
      ],
      "source": [
        "in_to_en_model = Model(IN_EN_ckpt_dir, model_type=\"ctranslate2\")"
      ]
    },
    {
      "cell_type": "code",
      "execution_count": 14,
      "metadata": {
        "colab": {
          "base_uri": "https://localhost:8080/"
        },
        "id": "uL-Gsm5Q20a6",
        "outputId": "9ed69ad6-c56b-42ca-be60-ce82ca0e0404"
      },
      "outputs": [
        {
          "name": "stdout",
          "output_type": "stream",
          "text": [
            "-----------------------------\n",
            "English Sentence: नमस्ते, आप आज कैसे हैं? आशा करता हूँ कि आपका दिन अच्छा गुजर रहा है।\n",
            "Indic Sentence: Hi, how are you doing today? I hope you are having a great day.\n",
            "-----------------------------\n",
            "English Sentence: मुझे नई भाषाएँ सीखना बहुत पसंद है क्योंकि इससे मुझे अलग-अलग संस्कृतियों से जुड़ने में मदद मिलती है।\n",
            "Indic Sentence: I love learning new languages because it helps me connect with different cultures.\n",
            "-----------------------------\n",
            "English Sentence: जब आप खुश होते हैं या कुछ सेलिब्रेट कर रहे होते हैं, तब आपका पसंदीदा खाना कौन सा होता है?\n",
            "Indic Sentence: When you are happy or celebrating something, what is your favorite food?\n",
            "-----------------------------\n",
            "English Sentence: वह प्राचीन सभ्यताओं के इतिहास पर एक रोचक किताब पढ़ रही है।\n",
            "Indic Sentence: She is reading an interesting book on the history of ancient civilizations.\n",
            "-----------------------------\n",
            "English Sentence: आज मौसम बहुत सुहावना है, और मैं पार्क में टहलने जाने के बारे में सोच रहा हूँ।\n",
            "Indic Sentence: Today the weather is very pleasant, and I am thinking of going for a walk in the park.\n"
          ]
        }
      ],
      "source": [
        "output = in_to_en_model.batch_translate(sentences, src_lang=\"hin_Deva\", tgt_lang=\"eng_Latn\", beam_len=3)\n",
        "for i, sentence in enumerate(sentences):\n",
        "    print(\"-----------------------------\")\n",
        "    print(f\"English Sentence: {sentence}\")\n",
        "    print(f\"Indic Sentence: {output[i]}\")"
      ]
    },
    {
      "cell_type": "code",
      "execution_count": null,
      "metadata": {
        "id": "XJgXYKQ2284I"
      },
      "outputs": [],
      "source": []
    }
  ],
  "metadata": {
    "accelerator": "GPU",
    "colab": {
      "gpuType": "T4",
      "provenance": []
    },
    "kernelspec": {
      "display_name": "Python 3",
      "name": "python3"
    },
    "language_info": {
      "name": "python"
    },
    "widgets": {
      "application/vnd.jupyter.widget-state+json": {
        "0b24a45f754a473fafeab48688dedaca": {
          "model_module": "@jupyter-widgets/base",
          "model_module_version": "1.2.0",
          "model_name": "LayoutModel",
          "state": {
            "_model_module": "@jupyter-widgets/base",
            "_model_module_version": "1.2.0",
            "_model_name": "LayoutModel",
            "_view_count": null,
            "_view_module": "@jupyter-widgets/base",
            "_view_module_version": "1.2.0",
            "_view_name": "LayoutView",
            "align_content": null,
            "align_items": null,
            "align_self": null,
            "border": null,
            "bottom": null,
            "display": null,
            "flex": null,
            "flex_flow": null,
            "grid_area": null,
            "grid_auto_columns": null,
            "grid_auto_flow": null,
            "grid_auto_rows": null,
            "grid_column": null,
            "grid_gap": null,
            "grid_row": null,
            "grid_template_areas": null,
            "grid_template_columns": null,
            "grid_template_rows": null,
            "height": null,
            "justify_content": null,
            "justify_items": null,
            "left": null,
            "margin": null,
            "max_height": null,
            "max_width": null,
            "min_height": null,
            "min_width": null,
            "object_fit": null,
            "object_position": null,
            "order": null,
            "overflow": null,
            "overflow_x": null,
            "overflow_y": null,
            "padding": null,
            "right": null,
            "top": null,
            "visibility": null,
            "width": null
          }
        },
        "0e5486cdc1044bdc9bbc2b0b58a7f902": {
          "model_module": "@jupyter-widgets/controls",
          "model_module_version": "1.5.0",
          "model_name": "ButtonStyleModel",
          "state": {
            "_model_module": "@jupyter-widgets/controls",
            "_model_module_version": "1.5.0",
            "_model_name": "ButtonStyleModel",
            "_view_count": null,
            "_view_module": "@jupyter-widgets/base",
            "_view_module_version": "1.2.0",
            "_view_name": "StyleView",
            "button_color": null,
            "font_weight": ""
          }
        },
        "2000dcfad48044549ce8fdbe450c1f0e": {
          "model_module": "@jupyter-widgets/controls",
          "model_module_version": "1.5.0",
          "model_name": "LabelModel",
          "state": {
            "_dom_classes": [],
            "_model_module": "@jupyter-widgets/controls",
            "_model_module_version": "1.5.0",
            "_model_name": "LabelModel",
            "_view_count": null,
            "_view_module": "@jupyter-widgets/controls",
            "_view_module_version": "1.5.0",
            "_view_name": "LabelView",
            "description": "",
            "description_tooltip": null,
            "layout": "IPY_MODEL_ee26aa2e99bb43eca61c015bfafacd70",
            "placeholder": "​",
            "style": "IPY_MODEL_6ad836cebe2e470fb58ddc8e0b0e590b",
            "value": "Connecting..."
          }
        },
        "253ad8b407274484977ab42641df2df4": {
          "model_module": "@jupyter-widgets/controls",
          "model_module_version": "1.5.0",
          "model_name": "DescriptionStyleModel",
          "state": {
            "_model_module": "@jupyter-widgets/controls",
            "_model_module_version": "1.5.0",
            "_model_name": "DescriptionStyleModel",
            "_view_count": null,
            "_view_module": "@jupyter-widgets/base",
            "_view_module_version": "1.2.0",
            "_view_name": "StyleView",
            "description_width": ""
          }
        },
        "27c6801e9477478d914be6563cf78fc3": {
          "model_module": "@jupyter-widgets/base",
          "model_module_version": "1.2.0",
          "model_name": "LayoutModel",
          "state": {
            "_model_module": "@jupyter-widgets/base",
            "_model_module_version": "1.2.0",
            "_model_name": "LayoutModel",
            "_view_count": null,
            "_view_module": "@jupyter-widgets/base",
            "_view_module_version": "1.2.0",
            "_view_name": "LayoutView",
            "align_content": null,
            "align_items": null,
            "align_self": null,
            "border": null,
            "bottom": null,
            "display": null,
            "flex": null,
            "flex_flow": null,
            "grid_area": null,
            "grid_auto_columns": null,
            "grid_auto_flow": null,
            "grid_auto_rows": null,
            "grid_column": null,
            "grid_gap": null,
            "grid_row": null,
            "grid_template_areas": null,
            "grid_template_columns": null,
            "grid_template_rows": null,
            "height": null,
            "justify_content": null,
            "justify_items": null,
            "left": null,
            "margin": null,
            "max_height": null,
            "max_width": null,
            "min_height": null,
            "min_width": null,
            "object_fit": null,
            "object_position": null,
            "order": null,
            "overflow": null,
            "overflow_x": null,
            "overflow_y": null,
            "padding": null,
            "right": null,
            "top": null,
            "visibility": null,
            "width": null
          }
        },
        "29d4fbc532dd45358239655ef0f5e2b7": {
          "model_module": "@jupyter-widgets/controls",
          "model_module_version": "1.5.0",
          "model_name": "DescriptionStyleModel",
          "state": {
            "_model_module": "@jupyter-widgets/controls",
            "_model_module_version": "1.5.0",
            "_model_name": "DescriptionStyleModel",
            "_view_count": null,
            "_view_module": "@jupyter-widgets/base",
            "_view_module_version": "1.2.0",
            "_view_name": "StyleView",
            "description_width": ""
          }
        },
        "383c7793a2c9488c8c5ee465dc121d8b": {
          "model_module": "@jupyter-widgets/controls",
          "model_module_version": "1.5.0",
          "model_name": "VBoxModel",
          "state": {
            "_dom_classes": [],
            "_model_module": "@jupyter-widgets/controls",
            "_model_module_version": "1.5.0",
            "_model_name": "VBoxModel",
            "_view_count": null,
            "_view_module": "@jupyter-widgets/controls",
            "_view_module_version": "1.5.0",
            "_view_name": "VBoxView",
            "box_style": "",
            "children": [],
            "layout": "IPY_MODEL_93c12918e321472f83a86e314aa94317"
          }
        },
        "4475021be8c44359878aad01170a837d": {
          "model_module": "@jupyter-widgets/controls",
          "model_module_version": "1.5.0",
          "model_name": "HTMLModel",
          "state": {
            "_dom_classes": [],
            "_model_module": "@jupyter-widgets/controls",
            "_model_module_version": "1.5.0",
            "_model_name": "HTMLModel",
            "_view_count": null,
            "_view_module": "@jupyter-widgets/controls",
            "_view_module_version": "1.5.0",
            "_view_name": "HTMLView",
            "description": "",
            "description_tooltip": null,
            "layout": "IPY_MODEL_e8c5f8c1d3a34cb6bd6717da3ccebb75",
            "placeholder": "​",
            "style": "IPY_MODEL_253ad8b407274484977ab42641df2df4",
            "value": ""
          }
        },
        "472d4d1fb040486e9bd35457fcd936c0": {
          "model_module": "@jupyter-widgets/controls",
          "model_module_version": "1.5.0",
          "model_name": "HTMLModel",
          "state": {
            "_dom_classes": [],
            "_model_module": "@jupyter-widgets/controls",
            "_model_module_version": "1.5.0",
            "_model_name": "HTMLModel",
            "_view_count": null,
            "_view_module": "@jupyter-widgets/controls",
            "_view_module_version": "1.5.0",
            "_view_name": "HTMLView",
            "description": "",
            "description_tooltip": null,
            "layout": "IPY_MODEL_27c6801e9477478d914be6563cf78fc3",
            "placeholder": "​",
            "style": "IPY_MODEL_29d4fbc532dd45358239655ef0f5e2b7",
            "value": "<center> <img\nsrc=https://huggingface.co/front/assets/huggingface_logo-noborder.svg\nalt='Hugging Face'> <br> Copy a token from <a\nhref=\"https://huggingface.co/settings/tokens\" target=\"_blank\">your Hugging Face\ntokens page</a> and paste it below. <br> Immediately click login after copying\nyour token or it might be stored in plain text in this notebook file. </center>"
          }
        },
        "4756bd7f148441ec9873c97e064f06ff": {
          "model_module": "@jupyter-widgets/base",
          "model_module_version": "1.2.0",
          "model_name": "LayoutModel",
          "state": {
            "_model_module": "@jupyter-widgets/base",
            "_model_module_version": "1.2.0",
            "_model_name": "LayoutModel",
            "_view_count": null,
            "_view_module": "@jupyter-widgets/base",
            "_view_module_version": "1.2.0",
            "_view_name": "LayoutView",
            "align_content": null,
            "align_items": null,
            "align_self": null,
            "border": null,
            "bottom": null,
            "display": null,
            "flex": null,
            "flex_flow": null,
            "grid_area": null,
            "grid_auto_columns": null,
            "grid_auto_flow": null,
            "grid_auto_rows": null,
            "grid_column": null,
            "grid_gap": null,
            "grid_row": null,
            "grid_template_areas": null,
            "grid_template_columns": null,
            "grid_template_rows": null,
            "height": null,
            "justify_content": null,
            "justify_items": null,
            "left": null,
            "margin": null,
            "max_height": null,
            "max_width": null,
            "min_height": null,
            "min_width": null,
            "object_fit": null,
            "object_position": null,
            "order": null,
            "overflow": null,
            "overflow_x": null,
            "overflow_y": null,
            "padding": null,
            "right": null,
            "top": null,
            "visibility": null,
            "width": null
          }
        },
        "4e47244d2aad4ad1812414fc5c78e96e": {
          "model_module": "@jupyter-widgets/controls",
          "model_module_version": "1.5.0",
          "model_name": "HTMLModel",
          "state": {
            "_dom_classes": [],
            "_model_module": "@jupyter-widgets/controls",
            "_model_module_version": "1.5.0",
            "_model_name": "HTMLModel",
            "_view_count": null,
            "_view_module": "@jupyter-widgets/controls",
            "_view_module_version": "1.5.0",
            "_view_name": "HTMLView",
            "description": "",
            "description_tooltip": null,
            "layout": "IPY_MODEL_b58ecf8daf224ecb937262999717e4f8",
            "placeholder": "​",
            "style": "IPY_MODEL_f7534687131f4d01a78fec310ac3b8f5",
            "value": "\n<b>Pro Tip:</b> If you don't already have one, you can create a dedicated\n'notebooks' token with 'write' access, that you can then easily reuse for all\nnotebooks. </center>"
          }
        },
        "56e627cfe5594568b9494c104c356757": {
          "model_module": "@jupyter-widgets/controls",
          "model_module_version": "1.5.0",
          "model_name": "DescriptionStyleModel",
          "state": {
            "_model_module": "@jupyter-widgets/controls",
            "_model_module_version": "1.5.0",
            "_model_name": "DescriptionStyleModel",
            "_view_count": null,
            "_view_module": "@jupyter-widgets/base",
            "_view_module_version": "1.2.0",
            "_view_name": "StyleView",
            "description_width": ""
          }
        },
        "5b4fa6cf047a4c9ea1c745f0076c75fb": {
          "model_module": "@jupyter-widgets/controls",
          "model_module_version": "1.5.0",
          "model_name": "HBoxModel",
          "state": {
            "_dom_classes": [],
            "_model_module": "@jupyter-widgets/controls",
            "_model_module_version": "1.5.0",
            "_model_name": "HBoxModel",
            "_view_count": null,
            "_view_module": "@jupyter-widgets/controls",
            "_view_module_version": "1.5.0",
            "_view_name": "HBoxView",
            "box_style": "",
            "children": [
              "IPY_MODEL_4475021be8c44359878aad01170a837d",
              "IPY_MODEL_ac7c064b837a42d786dab4b37268c8dd",
              "IPY_MODEL_eb4c9b0bcc434005ac0ce61cd3755eae"
            ],
            "layout": "IPY_MODEL_86437514dda1425ead1399550fbf5e8f"
          }
        },
        "63036acb272847e681d3f85393a0cb01": {
          "model_module": "@jupyter-widgets/base",
          "model_module_version": "1.2.0",
          "model_name": "LayoutModel",
          "state": {
            "_model_module": "@jupyter-widgets/base",
            "_model_module_version": "1.2.0",
            "_model_name": "LayoutModel",
            "_view_count": null,
            "_view_module": "@jupyter-widgets/base",
            "_view_module_version": "1.2.0",
            "_view_name": "LayoutView",
            "align_content": null,
            "align_items": null,
            "align_self": null,
            "border": null,
            "bottom": null,
            "display": null,
            "flex": null,
            "flex_flow": null,
            "grid_area": null,
            "grid_auto_columns": null,
            "grid_auto_flow": null,
            "grid_auto_rows": null,
            "grid_column": null,
            "grid_gap": null,
            "grid_row": null,
            "grid_template_areas": null,
            "grid_template_columns": null,
            "grid_template_rows": null,
            "height": null,
            "justify_content": null,
            "justify_items": null,
            "left": null,
            "margin": null,
            "max_height": null,
            "max_width": null,
            "min_height": null,
            "min_width": null,
            "object_fit": null,
            "object_position": null,
            "order": null,
            "overflow": null,
            "overflow_x": null,
            "overflow_y": null,
            "padding": null,
            "right": null,
            "top": null,
            "visibility": null,
            "width": null
          }
        },
        "6ad836cebe2e470fb58ddc8e0b0e590b": {
          "model_module": "@jupyter-widgets/controls",
          "model_module_version": "1.5.0",
          "model_name": "DescriptionStyleModel",
          "state": {
            "_model_module": "@jupyter-widgets/controls",
            "_model_module_version": "1.5.0",
            "_model_name": "DescriptionStyleModel",
            "_view_count": null,
            "_view_module": "@jupyter-widgets/base",
            "_view_module_version": "1.2.0",
            "_view_name": "StyleView",
            "description_width": ""
          }
        },
        "73ffd9ce8ba94fdd9921d7832afd65ef": {
          "model_module": "@jupyter-widgets/controls",
          "model_module_version": "1.5.0",
          "model_name": "CheckboxModel",
          "state": {
            "_dom_classes": [],
            "_model_module": "@jupyter-widgets/controls",
            "_model_module_version": "1.5.0",
            "_model_name": "CheckboxModel",
            "_view_count": null,
            "_view_module": "@jupyter-widgets/controls",
            "_view_module_version": "1.5.0",
            "_view_name": "CheckboxView",
            "description": "Add token as git credential?",
            "description_tooltip": null,
            "disabled": false,
            "indent": true,
            "layout": "IPY_MODEL_90f71d2ef112442a9272216bf56d08d6",
            "style": "IPY_MODEL_56e627cfe5594568b9494c104c356757",
            "value": true
          }
        },
        "752db4febd37435692d94992f1adc7cc": {
          "model_module": "@jupyter-widgets/controls",
          "model_module_version": "1.5.0",
          "model_name": "DescriptionStyleModel",
          "state": {
            "_model_module": "@jupyter-widgets/controls",
            "_model_module_version": "1.5.0",
            "_model_name": "DescriptionStyleModel",
            "_view_count": null,
            "_view_module": "@jupyter-widgets/base",
            "_view_module_version": "1.2.0",
            "_view_name": "StyleView",
            "description_width": ""
          }
        },
        "764dd8d4bcb945cb9712f747ea53f918": {
          "model_module": "@jupyter-widgets/controls",
          "model_module_version": "1.5.0",
          "model_name": "ButtonModel",
          "state": {
            "_dom_classes": [],
            "_model_module": "@jupyter-widgets/controls",
            "_model_module_version": "1.5.0",
            "_model_name": "ButtonModel",
            "_view_count": null,
            "_view_module": "@jupyter-widgets/controls",
            "_view_module_version": "1.5.0",
            "_view_name": "ButtonView",
            "button_style": "",
            "description": "Login",
            "disabled": false,
            "icon": "",
            "layout": "IPY_MODEL_0b24a45f754a473fafeab48688dedaca",
            "style": "IPY_MODEL_0e5486cdc1044bdc9bbc2b0b58a7f902",
            "tooltip": ""
          }
        },
        "806e29a666ec4c4aa8f0f62a86de54e3": {
          "model_module": "@jupyter-widgets/controls",
          "model_module_version": "1.5.0",
          "model_name": "DescriptionStyleModel",
          "state": {
            "_model_module": "@jupyter-widgets/controls",
            "_model_module_version": "1.5.0",
            "_model_name": "DescriptionStyleModel",
            "_view_count": null,
            "_view_module": "@jupyter-widgets/base",
            "_view_module_version": "1.2.0",
            "_view_name": "StyleView",
            "description_width": ""
          }
        },
        "86437514dda1425ead1399550fbf5e8f": {
          "model_module": "@jupyter-widgets/base",
          "model_module_version": "1.2.0",
          "model_name": "LayoutModel",
          "state": {
            "_model_module": "@jupyter-widgets/base",
            "_model_module_version": "1.2.0",
            "_model_name": "LayoutModel",
            "_view_count": null,
            "_view_module": "@jupyter-widgets/base",
            "_view_module_version": "1.2.0",
            "_view_name": "LayoutView",
            "align_content": null,
            "align_items": null,
            "align_self": null,
            "border": null,
            "bottom": null,
            "display": null,
            "flex": null,
            "flex_flow": null,
            "grid_area": null,
            "grid_auto_columns": null,
            "grid_auto_flow": null,
            "grid_auto_rows": null,
            "grid_column": null,
            "grid_gap": null,
            "grid_row": null,
            "grid_template_areas": null,
            "grid_template_columns": null,
            "grid_template_rows": null,
            "height": null,
            "justify_content": null,
            "justify_items": null,
            "left": null,
            "margin": null,
            "max_height": null,
            "max_width": null,
            "min_height": null,
            "min_width": null,
            "object_fit": null,
            "object_position": null,
            "order": null,
            "overflow": null,
            "overflow_x": null,
            "overflow_y": null,
            "padding": null,
            "right": null,
            "top": null,
            "visibility": null,
            "width": null
          }
        },
        "90f71d2ef112442a9272216bf56d08d6": {
          "model_module": "@jupyter-widgets/base",
          "model_module_version": "1.2.0",
          "model_name": "LayoutModel",
          "state": {
            "_model_module": "@jupyter-widgets/base",
            "_model_module_version": "1.2.0",
            "_model_name": "LayoutModel",
            "_view_count": null,
            "_view_module": "@jupyter-widgets/base",
            "_view_module_version": "1.2.0",
            "_view_name": "LayoutView",
            "align_content": null,
            "align_items": null,
            "align_self": null,
            "border": null,
            "bottom": null,
            "display": null,
            "flex": null,
            "flex_flow": null,
            "grid_area": null,
            "grid_auto_columns": null,
            "grid_auto_flow": null,
            "grid_auto_rows": null,
            "grid_column": null,
            "grid_gap": null,
            "grid_row": null,
            "grid_template_areas": null,
            "grid_template_columns": null,
            "grid_template_rows": null,
            "height": null,
            "justify_content": null,
            "justify_items": null,
            "left": null,
            "margin": null,
            "max_height": null,
            "max_width": null,
            "min_height": null,
            "min_width": null,
            "object_fit": null,
            "object_position": null,
            "order": null,
            "overflow": null,
            "overflow_x": null,
            "overflow_y": null,
            "padding": null,
            "right": null,
            "top": null,
            "visibility": null,
            "width": null
          }
        },
        "93c12918e321472f83a86e314aa94317": {
          "model_module": "@jupyter-widgets/base",
          "model_module_version": "1.2.0",
          "model_name": "LayoutModel",
          "state": {
            "_model_module": "@jupyter-widgets/base",
            "_model_module_version": "1.2.0",
            "_model_name": "LayoutModel",
            "_view_count": null,
            "_view_module": "@jupyter-widgets/base",
            "_view_module_version": "1.2.0",
            "_view_name": "LayoutView",
            "align_content": null,
            "align_items": "center",
            "align_self": null,
            "border": null,
            "bottom": null,
            "display": "flex",
            "flex": null,
            "flex_flow": "column",
            "grid_area": null,
            "grid_auto_columns": null,
            "grid_auto_flow": null,
            "grid_auto_rows": null,
            "grid_column": null,
            "grid_gap": null,
            "grid_row": null,
            "grid_template_areas": null,
            "grid_template_columns": null,
            "grid_template_rows": null,
            "height": null,
            "justify_content": null,
            "justify_items": null,
            "left": null,
            "margin": null,
            "max_height": null,
            "max_width": null,
            "min_height": null,
            "min_width": null,
            "object_fit": null,
            "object_position": null,
            "order": null,
            "overflow": null,
            "overflow_x": null,
            "overflow_y": null,
            "padding": null,
            "right": null,
            "top": null,
            "visibility": null,
            "width": "50%"
          }
        },
        "ac7c064b837a42d786dab4b37268c8dd": {
          "model_module": "@jupyter-widgets/controls",
          "model_module_version": "1.5.0",
          "model_name": "FloatProgressModel",
          "state": {
            "_dom_classes": [],
            "_model_module": "@jupyter-widgets/controls",
            "_model_module_version": "1.5.0",
            "_model_name": "FloatProgressModel",
            "_view_count": null,
            "_view_module": "@jupyter-widgets/controls",
            "_view_module_version": "1.5.0",
            "_view_name": "ProgressView",
            "bar_style": "success",
            "description": "",
            "description_tooltip": null,
            "layout": "IPY_MODEL_e8504f60c8e244f389d67561026337ad",
            "max": 1,
            "min": 0,
            "orientation": "horizontal",
            "style": "IPY_MODEL_bb7ed25251234f5d93d9d2593f5a1952",
            "value": 0
          }
        },
        "af0342c280f349cea6d8602746bfcc18": {
          "model_module": "@jupyter-widgets/controls",
          "model_module_version": "1.5.0",
          "model_name": "PasswordModel",
          "state": {
            "_dom_classes": [],
            "_model_module": "@jupyter-widgets/controls",
            "_model_module_version": "1.5.0",
            "_model_name": "PasswordModel",
            "_view_count": null,
            "_view_module": "@jupyter-widgets/controls",
            "_view_module_version": "1.5.0",
            "_view_name": "PasswordView",
            "continuous_update": true,
            "description": "Token:",
            "description_tooltip": null,
            "disabled": false,
            "layout": "IPY_MODEL_63036acb272847e681d3f85393a0cb01",
            "placeholder": "​",
            "style": "IPY_MODEL_806e29a666ec4c4aa8f0f62a86de54e3",
            "value": ""
          }
        },
        "b58ecf8daf224ecb937262999717e4f8": {
          "model_module": "@jupyter-widgets/base",
          "model_module_version": "1.2.0",
          "model_name": "LayoutModel",
          "state": {
            "_model_module": "@jupyter-widgets/base",
            "_model_module_version": "1.2.0",
            "_model_name": "LayoutModel",
            "_view_count": null,
            "_view_module": "@jupyter-widgets/base",
            "_view_module_version": "1.2.0",
            "_view_name": "LayoutView",
            "align_content": null,
            "align_items": null,
            "align_self": null,
            "border": null,
            "bottom": null,
            "display": null,
            "flex": null,
            "flex_flow": null,
            "grid_area": null,
            "grid_auto_columns": null,
            "grid_auto_flow": null,
            "grid_auto_rows": null,
            "grid_column": null,
            "grid_gap": null,
            "grid_row": null,
            "grid_template_areas": null,
            "grid_template_columns": null,
            "grid_template_rows": null,
            "height": null,
            "justify_content": null,
            "justify_items": null,
            "left": null,
            "margin": null,
            "max_height": null,
            "max_width": null,
            "min_height": null,
            "min_width": null,
            "object_fit": null,
            "object_position": null,
            "order": null,
            "overflow": null,
            "overflow_x": null,
            "overflow_y": null,
            "padding": null,
            "right": null,
            "top": null,
            "visibility": null,
            "width": null
          }
        },
        "bb7ed25251234f5d93d9d2593f5a1952": {
          "model_module": "@jupyter-widgets/controls",
          "model_module_version": "1.5.0",
          "model_name": "ProgressStyleModel",
          "state": {
            "_model_module": "@jupyter-widgets/controls",
            "_model_module_version": "1.5.0",
            "_model_name": "ProgressStyleModel",
            "_view_count": null,
            "_view_module": "@jupyter-widgets/base",
            "_view_module_version": "1.2.0",
            "_view_name": "StyleView",
            "bar_color": null,
            "description_width": ""
          }
        },
        "e8504f60c8e244f389d67561026337ad": {
          "model_module": "@jupyter-widgets/base",
          "model_module_version": "1.2.0",
          "model_name": "LayoutModel",
          "state": {
            "_model_module": "@jupyter-widgets/base",
            "_model_module_version": "1.2.0",
            "_model_name": "LayoutModel",
            "_view_count": null,
            "_view_module": "@jupyter-widgets/base",
            "_view_module_version": "1.2.0",
            "_view_name": "LayoutView",
            "align_content": null,
            "align_items": null,
            "align_self": null,
            "border": null,
            "bottom": null,
            "display": null,
            "flex": null,
            "flex_flow": null,
            "grid_area": null,
            "grid_auto_columns": null,
            "grid_auto_flow": null,
            "grid_auto_rows": null,
            "grid_column": null,
            "grid_gap": null,
            "grid_row": null,
            "grid_template_areas": null,
            "grid_template_columns": null,
            "grid_template_rows": null,
            "height": null,
            "justify_content": null,
            "justify_items": null,
            "left": null,
            "margin": null,
            "max_height": null,
            "max_width": null,
            "min_height": null,
            "min_width": null,
            "object_fit": null,
            "object_position": null,
            "order": null,
            "overflow": null,
            "overflow_x": null,
            "overflow_y": null,
            "padding": null,
            "right": null,
            "top": null,
            "visibility": null,
            "width": "20px"
          }
        },
        "e8c5f8c1d3a34cb6bd6717da3ccebb75": {
          "model_module": "@jupyter-widgets/base",
          "model_module_version": "1.2.0",
          "model_name": "LayoutModel",
          "state": {
            "_model_module": "@jupyter-widgets/base",
            "_model_module_version": "1.2.0",
            "_model_name": "LayoutModel",
            "_view_count": null,
            "_view_module": "@jupyter-widgets/base",
            "_view_module_version": "1.2.0",
            "_view_name": "LayoutView",
            "align_content": null,
            "align_items": null,
            "align_self": null,
            "border": null,
            "bottom": null,
            "display": null,
            "flex": null,
            "flex_flow": null,
            "grid_area": null,
            "grid_auto_columns": null,
            "grid_auto_flow": null,
            "grid_auto_rows": null,
            "grid_column": null,
            "grid_gap": null,
            "grid_row": null,
            "grid_template_areas": null,
            "grid_template_columns": null,
            "grid_template_rows": null,
            "height": null,
            "justify_content": null,
            "justify_items": null,
            "left": null,
            "margin": null,
            "max_height": null,
            "max_width": null,
            "min_height": null,
            "min_width": null,
            "object_fit": null,
            "object_position": null,
            "order": null,
            "overflow": null,
            "overflow_x": null,
            "overflow_y": null,
            "padding": null,
            "right": null,
            "top": null,
            "visibility": null,
            "width": null
          }
        },
        "eb4c9b0bcc434005ac0ce61cd3755eae": {
          "model_module": "@jupyter-widgets/controls",
          "model_module_version": "1.5.0",
          "model_name": "HTMLModel",
          "state": {
            "_dom_classes": [],
            "_model_module": "@jupyter-widgets/controls",
            "_model_module_version": "1.5.0",
            "_model_name": "HTMLModel",
            "_view_count": null,
            "_view_module": "@jupyter-widgets/controls",
            "_view_module_version": "1.5.0",
            "_view_name": "HTMLView",
            "description": "",
            "description_tooltip": null,
            "layout": "IPY_MODEL_4756bd7f148441ec9873c97e064f06ff",
            "placeholder": "​",
            "style": "IPY_MODEL_752db4febd37435692d94992f1adc7cc",
            "value": " 0/0 [00:00&lt;?, ?it/s]"
          }
        },
        "ee26aa2e99bb43eca61c015bfafacd70": {
          "model_module": "@jupyter-widgets/base",
          "model_module_version": "1.2.0",
          "model_name": "LayoutModel",
          "state": {
            "_model_module": "@jupyter-widgets/base",
            "_model_module_version": "1.2.0",
            "_model_name": "LayoutModel",
            "_view_count": null,
            "_view_module": "@jupyter-widgets/base",
            "_view_module_version": "1.2.0",
            "_view_name": "LayoutView",
            "align_content": null,
            "align_items": null,
            "align_self": null,
            "border": null,
            "bottom": null,
            "display": null,
            "flex": null,
            "flex_flow": null,
            "grid_area": null,
            "grid_auto_columns": null,
            "grid_auto_flow": null,
            "grid_auto_rows": null,
            "grid_column": null,
            "grid_gap": null,
            "grid_row": null,
            "grid_template_areas": null,
            "grid_template_columns": null,
            "grid_template_rows": null,
            "height": null,
            "justify_content": null,
            "justify_items": null,
            "left": null,
            "margin": null,
            "max_height": null,
            "max_width": null,
            "min_height": null,
            "min_width": null,
            "object_fit": null,
            "object_position": null,
            "order": null,
            "overflow": null,
            "overflow_x": null,
            "overflow_y": null,
            "padding": null,
            "right": null,
            "top": null,
            "visibility": null,
            "width": null
          }
        },
        "f7534687131f4d01a78fec310ac3b8f5": {
          "model_module": "@jupyter-widgets/controls",
          "model_module_version": "1.5.0",
          "model_name": "DescriptionStyleModel",
          "state": {
            "_model_module": "@jupyter-widgets/controls",
            "_model_module_version": "1.5.0",
            "_model_name": "DescriptionStyleModel",
            "_view_count": null,
            "_view_module": "@jupyter-widgets/base",
            "_view_module_version": "1.2.0",
            "_view_name": "StyleView",
            "description_width": ""
          }
        }
      }
    }
  },
  "nbformat": 4,
  "nbformat_minor": 0
}
